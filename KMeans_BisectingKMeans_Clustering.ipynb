{
  "nbformat": 4,
  "nbformat_minor": 0,
  "metadata": {
    "kernelspec": {
      "display_name": "Python 3",
      "language": "python",
      "name": "python3"
    },
    "language_info": {
      "codemirror_mode": {
        "name": "ipython",
        "version": 3
      },
      "file_extension": ".py",
      "mimetype": "text/x-python",
      "name": "python",
      "nbconvert_exporter": "python",
      "pygments_lexer": "ipython3",
      "version": "3.6.4"
    },
    "colab": {
      "name": "KMeans_BisectingKMeans_Clustering.ipynb",
      "provenance": [],
      "toc_visible": true,
      "include_colab_link": true
    }
  },
  "cells": [
    {
      "cell_type": "markdown",
      "metadata": {
        "id": "view-in-github",
        "colab_type": "text"
      },
      "source": [
        "<a href=\"https://colab.research.google.com/github/varshachawan/SparkML/blob/master/KMeans_BisectingKMeans_Clustering.ipynb\" target=\"_parent\"><img src=\"https://colab.research.google.com/assets/colab-badge.svg\" alt=\"Open In Colab\"/></a>"
      ]
    },
    {
      "cell_type": "markdown",
      "metadata": {
        "id": "EEav5oL5NyuJ",
        "colab_type": "text"
      },
      "source": [
        "### Download the dataset\n",
        "<b>Dataset location: </b>https://www.kaggle.com/c/3136/download/train.csv"
      ]
    },
    {
      "cell_type": "code",
      "metadata": {
        "id": "AxWJL0GvNzwh",
        "colab_type": "code",
        "colab": {}
      },
      "source": [
        "!apt-get install openjdk-8-jdk-headless -qq > /dev/null\n",
        "!wget -q https://mirror.olnevhost.net/pub/apache/spark/spark-2.4.5/spark-2.4.5-bin-hadoop2.7.tgz"
      ],
      "execution_count": 0,
      "outputs": []
    },
    {
      "cell_type": "code",
      "metadata": {
        "id": "A4bHt096N-5C",
        "colab_type": "code",
        "colab": {
          "base_uri": "https://localhost:8080/",
          "height": 35
        },
        "outputId": "8a37f02e-d33a-4d4b-f39c-a5556f9d573c"
      },
      "source": [
        "!tar xf spark-2.4.5-bin-hadoop2.7.tgz\n",
        "!pip install -q findspark\n",
        "import os\n",
        "os.environ[\"JAVA_HOME\"]=\"/usr/lib/jvm/java-8-openjdk-amd64\"\n",
        "os.environ[\"SPARK_HOME\"]=\"/content/spark-2.4.5-bin-hadoop2.7\"\n",
        "!echo $JAVA_HOME\n",
        "import findspark\n",
        "findspark.init()"
      ],
      "execution_count": 2,
      "outputs": [
        {
          "output_type": "stream",
          "text": [
            "/usr/lib/jvm/java-8-openjdk-amd64\n"
          ],
          "name": "stdout"
        }
      ]
    },
    {
      "cell_type": "code",
      "metadata": {
        "id": "jy8giPXMNyuK",
        "colab_type": "code",
        "colab": {}
      },
      "source": [
        "from pyspark.sql import SparkSession\n",
        "\n",
        "spark = SparkSession \\\n",
        "    .builder \\\n",
        "    .appName('Examine data about passengers on the Titanic') \\\n",
        "    .getOrCreate()\n",
        "\n",
        "rawData = spark.read\\\n",
        "            .format('csv')\\\n",
        "            .option('header', 'true')\\\n",
        "            .load('./titanic.csv')"
      ],
      "execution_count": 0,
      "outputs": []
    },
    {
      "cell_type": "code",
      "metadata": {
        "id": "WrHoT3cYNyuP",
        "colab_type": "code",
        "colab": {},
        "outputId": "004dfab6-9b52-4871-948f-fe3d43fe25b2"
      },
      "source": [
        "rawData.toPandas().head()"
      ],
      "execution_count": 0,
      "outputs": [
        {
          "output_type": "execute_result",
          "data": {
            "text/html": [
              "<div>\n",
              "<style>\n",
              "    .dataframe thead tr:only-child th {\n",
              "        text-align: right;\n",
              "    }\n",
              "\n",
              "    .dataframe thead th {\n",
              "        text-align: left;\n",
              "    }\n",
              "\n",
              "    .dataframe tbody tr th {\n",
              "        vertical-align: top;\n",
              "    }\n",
              "</style>\n",
              "<table border=\"1\" class=\"dataframe\">\n",
              "  <thead>\n",
              "    <tr style=\"text-align: right;\">\n",
              "      <th></th>\n",
              "      <th>PassengerId</th>\n",
              "      <th>Survived</th>\n",
              "      <th>Pclass</th>\n",
              "      <th>Name</th>\n",
              "      <th>Sex</th>\n",
              "      <th>Age</th>\n",
              "      <th>SibSp</th>\n",
              "      <th>Parch</th>\n",
              "      <th>Ticket</th>\n",
              "      <th>Fare</th>\n",
              "      <th>Cabin</th>\n",
              "      <th>Embarked</th>\n",
              "    </tr>\n",
              "  </thead>\n",
              "  <tbody>\n",
              "    <tr>\n",
              "      <th>0</th>\n",
              "      <td>1</td>\n",
              "      <td>0</td>\n",
              "      <td>3</td>\n",
              "      <td>Braund, Mr. Owen Harris</td>\n",
              "      <td>male</td>\n",
              "      <td>22</td>\n",
              "      <td>1</td>\n",
              "      <td>0</td>\n",
              "      <td>A/5 21171</td>\n",
              "      <td>7.25</td>\n",
              "      <td>None</td>\n",
              "      <td>S</td>\n",
              "    </tr>\n",
              "    <tr>\n",
              "      <th>1</th>\n",
              "      <td>2</td>\n",
              "      <td>1</td>\n",
              "      <td>1</td>\n",
              "      <td>Cumings, Mrs. John Bradley (Florence Briggs Th...</td>\n",
              "      <td>female</td>\n",
              "      <td>38</td>\n",
              "      <td>1</td>\n",
              "      <td>0</td>\n",
              "      <td>PC 17599</td>\n",
              "      <td>71.2833</td>\n",
              "      <td>C85</td>\n",
              "      <td>C</td>\n",
              "    </tr>\n",
              "    <tr>\n",
              "      <th>2</th>\n",
              "      <td>3</td>\n",
              "      <td>1</td>\n",
              "      <td>3</td>\n",
              "      <td>Heikkinen, Miss. Laina</td>\n",
              "      <td>female</td>\n",
              "      <td>26</td>\n",
              "      <td>0</td>\n",
              "      <td>0</td>\n",
              "      <td>STON/O2. 3101282</td>\n",
              "      <td>7.925</td>\n",
              "      <td>None</td>\n",
              "      <td>S</td>\n",
              "    </tr>\n",
              "    <tr>\n",
              "      <th>3</th>\n",
              "      <td>4</td>\n",
              "      <td>1</td>\n",
              "      <td>1</td>\n",
              "      <td>Futrelle, Mrs. Jacques Heath (Lily May Peel)</td>\n",
              "      <td>female</td>\n",
              "      <td>35</td>\n",
              "      <td>1</td>\n",
              "      <td>0</td>\n",
              "      <td>113803</td>\n",
              "      <td>53.1</td>\n",
              "      <td>C123</td>\n",
              "      <td>S</td>\n",
              "    </tr>\n",
              "    <tr>\n",
              "      <th>4</th>\n",
              "      <td>5</td>\n",
              "      <td>0</td>\n",
              "      <td>3</td>\n",
              "      <td>Allen, Mr. William Henry</td>\n",
              "      <td>male</td>\n",
              "      <td>35</td>\n",
              "      <td>0</td>\n",
              "      <td>0</td>\n",
              "      <td>373450</td>\n",
              "      <td>8.05</td>\n",
              "      <td>None</td>\n",
              "      <td>S</td>\n",
              "    </tr>\n",
              "  </tbody>\n",
              "</table>\n",
              "</div>"
            ],
            "text/plain": [
              "  PassengerId Survived Pclass  \\\n",
              "0           1        0      3   \n",
              "1           2        1      1   \n",
              "2           3        1      3   \n",
              "3           4        1      1   \n",
              "4           5        0      3   \n",
              "\n",
              "                                                Name     Sex Age SibSp Parch  \\\n",
              "0                            Braund, Mr. Owen Harris    male  22     1     0   \n",
              "1  Cumings, Mrs. John Bradley (Florence Briggs Th...  female  38     1     0   \n",
              "2                             Heikkinen, Miss. Laina  female  26     0     0   \n",
              "3       Futrelle, Mrs. Jacques Heath (Lily May Peel)  female  35     1     0   \n",
              "4                           Allen, Mr. William Henry    male  35     0     0   \n",
              "\n",
              "             Ticket     Fare Cabin Embarked  \n",
              "0         A/5 21171     7.25  None        S  \n",
              "1          PC 17599  71.2833   C85        C  \n",
              "2  STON/O2. 3101282    7.925  None        S  \n",
              "3            113803     53.1  C123        S  \n",
              "4            373450     8.05  None        S  "
            ]
          },
          "metadata": {
            "tags": []
          },
          "execution_count": 2
        }
      ]
    },
    {
      "cell_type": "markdown",
      "metadata": {
        "id": "tkLXdWBlNyuU",
        "colab_type": "text"
      },
      "source": [
        "#### Select the columns which we required\n",
        "Also cast the numeric values as float"
      ]
    },
    {
      "cell_type": "code",
      "metadata": {
        "id": "Ys_36wdhNyuV",
        "colab_type": "code",
        "colab": {
          "base_uri": "https://localhost:8080/",
          "height": 198
        },
        "outputId": "f5706d5d-3af9-47c3-81b4-b69f4c170026"
      },
      "source": [
        "from pyspark.sql.functions import col\n",
        "\n",
        "dataset = rawData.select(col('Survived').cast('float'),\n",
        "                         col('Pclass').cast('float'),\n",
        "                         col('Sex'),\n",
        "                         col('Age').cast('float'),\n",
        "                         col('Fare').cast('float'),\n",
        "                         col('Embarked')\n",
        "                        )\n",
        "\n",
        "dataset.toPandas().head()"
      ],
      "execution_count": 4,
      "outputs": [
        {
          "output_type": "execute_result",
          "data": {
            "text/html": [
              "<div>\n",
              "<style scoped>\n",
              "    .dataframe tbody tr th:only-of-type {\n",
              "        vertical-align: middle;\n",
              "    }\n",
              "\n",
              "    .dataframe tbody tr th {\n",
              "        vertical-align: top;\n",
              "    }\n",
              "\n",
              "    .dataframe thead th {\n",
              "        text-align: right;\n",
              "    }\n",
              "</style>\n",
              "<table border=\"1\" class=\"dataframe\">\n",
              "  <thead>\n",
              "    <tr style=\"text-align: right;\">\n",
              "      <th></th>\n",
              "      <th>Survived</th>\n",
              "      <th>Pclass</th>\n",
              "      <th>Sex</th>\n",
              "      <th>Age</th>\n",
              "      <th>Fare</th>\n",
              "      <th>Embarked</th>\n",
              "    </tr>\n",
              "  </thead>\n",
              "  <tbody>\n",
              "    <tr>\n",
              "      <th>0</th>\n",
              "      <td>0.0</td>\n",
              "      <td>3.0</td>\n",
              "      <td>male</td>\n",
              "      <td>22.0</td>\n",
              "      <td>7.250000</td>\n",
              "      <td>S</td>\n",
              "    </tr>\n",
              "    <tr>\n",
              "      <th>1</th>\n",
              "      <td>1.0</td>\n",
              "      <td>1.0</td>\n",
              "      <td>female</td>\n",
              "      <td>38.0</td>\n",
              "      <td>71.283302</td>\n",
              "      <td>C</td>\n",
              "    </tr>\n",
              "    <tr>\n",
              "      <th>2</th>\n",
              "      <td>1.0</td>\n",
              "      <td>3.0</td>\n",
              "      <td>female</td>\n",
              "      <td>26.0</td>\n",
              "      <td>7.925000</td>\n",
              "      <td>S</td>\n",
              "    </tr>\n",
              "    <tr>\n",
              "      <th>3</th>\n",
              "      <td>1.0</td>\n",
              "      <td>1.0</td>\n",
              "      <td>female</td>\n",
              "      <td>35.0</td>\n",
              "      <td>53.099998</td>\n",
              "      <td>S</td>\n",
              "    </tr>\n",
              "    <tr>\n",
              "      <th>4</th>\n",
              "      <td>0.0</td>\n",
              "      <td>3.0</td>\n",
              "      <td>male</td>\n",
              "      <td>35.0</td>\n",
              "      <td>8.050000</td>\n",
              "      <td>S</td>\n",
              "    </tr>\n",
              "  </tbody>\n",
              "</table>\n",
              "</div>"
            ],
            "text/plain": [
              "   Survived  Pclass     Sex   Age       Fare Embarked\n",
              "0       0.0     3.0    male  22.0   7.250000        S\n",
              "1       1.0     1.0  female  38.0  71.283302        C\n",
              "2       1.0     3.0  female  26.0   7.925000        S\n",
              "3       1.0     1.0  female  35.0  53.099998        S\n",
              "4       0.0     3.0    male  35.0   8.050000        S"
            ]
          },
          "metadata": {
            "tags": []
          },
          "execution_count": 4
        }
      ]
    },
    {
      "cell_type": "markdown",
      "metadata": {
        "id": "Df60HnQPNyuZ",
        "colab_type": "text"
      },
      "source": [
        "#### Drop rows containing missing values"
      ]
    },
    {
      "cell_type": "code",
      "metadata": {
        "id": "cyyxthqkNyua",
        "colab_type": "code",
        "colab": {}
      },
      "source": [
        "dataset = dataset.replace('?', None)\\\n",
        "        .dropna(how='any')"
      ],
      "execution_count": 0,
      "outputs": []
    },
    {
      "cell_type": "markdown",
      "metadata": {
        "id": "YxX-eL2bNyud",
        "colab_type": "text"
      },
      "source": [
        "#### Define StringIndexers for categorical columns"
      ]
    },
    {
      "cell_type": "code",
      "metadata": {
        "id": "wL3LluSvNyug",
        "colab_type": "code",
        "colab": {
          "base_uri": "https://localhost:8080/",
          "height": 198
        },
        "outputId": "769f19a4-41fa-4662-e665-dd257d91a2d7"
      },
      "source": [
        "from pyspark.ml.feature import StringIndexer\n",
        "\n",
        "dataset = StringIndexer(\n",
        "    inputCol='Sex', \n",
        "    outputCol='Gender', \n",
        "    handleInvalid='keep').fit(dataset).transform(dataset)\n",
        "\n",
        "dataset = StringIndexer(\n",
        "    inputCol='Embarked', \n",
        "    outputCol='Boarded', \n",
        "    handleInvalid='keep').fit(dataset).transform(dataset)\n",
        "\n",
        "dataset.toPandas().head()"
      ],
      "execution_count": 6,
      "outputs": [
        {
          "output_type": "execute_result",
          "data": {
            "text/html": [
              "<div>\n",
              "<style scoped>\n",
              "    .dataframe tbody tr th:only-of-type {\n",
              "        vertical-align: middle;\n",
              "    }\n",
              "\n",
              "    .dataframe tbody tr th {\n",
              "        vertical-align: top;\n",
              "    }\n",
              "\n",
              "    .dataframe thead th {\n",
              "        text-align: right;\n",
              "    }\n",
              "</style>\n",
              "<table border=\"1\" class=\"dataframe\">\n",
              "  <thead>\n",
              "    <tr style=\"text-align: right;\">\n",
              "      <th></th>\n",
              "      <th>Survived</th>\n",
              "      <th>Pclass</th>\n",
              "      <th>Sex</th>\n",
              "      <th>Age</th>\n",
              "      <th>Fare</th>\n",
              "      <th>Embarked</th>\n",
              "      <th>Gender</th>\n",
              "      <th>Boarded</th>\n",
              "    </tr>\n",
              "  </thead>\n",
              "  <tbody>\n",
              "    <tr>\n",
              "      <th>0</th>\n",
              "      <td>0.0</td>\n",
              "      <td>3.0</td>\n",
              "      <td>male</td>\n",
              "      <td>22.0</td>\n",
              "      <td>7.250000</td>\n",
              "      <td>S</td>\n",
              "      <td>0.0</td>\n",
              "      <td>0.0</td>\n",
              "    </tr>\n",
              "    <tr>\n",
              "      <th>1</th>\n",
              "      <td>1.0</td>\n",
              "      <td>1.0</td>\n",
              "      <td>female</td>\n",
              "      <td>38.0</td>\n",
              "      <td>71.283302</td>\n",
              "      <td>C</td>\n",
              "      <td>1.0</td>\n",
              "      <td>1.0</td>\n",
              "    </tr>\n",
              "    <tr>\n",
              "      <th>2</th>\n",
              "      <td>1.0</td>\n",
              "      <td>3.0</td>\n",
              "      <td>female</td>\n",
              "      <td>26.0</td>\n",
              "      <td>7.925000</td>\n",
              "      <td>S</td>\n",
              "      <td>1.0</td>\n",
              "      <td>0.0</td>\n",
              "    </tr>\n",
              "    <tr>\n",
              "      <th>3</th>\n",
              "      <td>1.0</td>\n",
              "      <td>1.0</td>\n",
              "      <td>female</td>\n",
              "      <td>35.0</td>\n",
              "      <td>53.099998</td>\n",
              "      <td>S</td>\n",
              "      <td>1.0</td>\n",
              "      <td>0.0</td>\n",
              "    </tr>\n",
              "    <tr>\n",
              "      <th>4</th>\n",
              "      <td>0.0</td>\n",
              "      <td>3.0</td>\n",
              "      <td>male</td>\n",
              "      <td>35.0</td>\n",
              "      <td>8.050000</td>\n",
              "      <td>S</td>\n",
              "      <td>0.0</td>\n",
              "      <td>0.0</td>\n",
              "    </tr>\n",
              "  </tbody>\n",
              "</table>\n",
              "</div>"
            ],
            "text/plain": [
              "   Survived  Pclass     Sex   Age       Fare Embarked  Gender  Boarded\n",
              "0       0.0     3.0    male  22.0   7.250000        S     0.0      0.0\n",
              "1       1.0     1.0  female  38.0  71.283302        C     1.0      1.0\n",
              "2       1.0     3.0  female  26.0   7.925000        S     1.0      0.0\n",
              "3       1.0     1.0  female  35.0  53.099998        S     1.0      0.0\n",
              "4       0.0     3.0    male  35.0   8.050000        S     0.0      0.0"
            ]
          },
          "metadata": {
            "tags": []
          },
          "execution_count": 6
        }
      ]
    },
    {
      "cell_type": "markdown",
      "metadata": {
        "id": "9S-SUYfjNyuo",
        "colab_type": "text"
      },
      "source": [
        "#### Drop the redundant columns"
      ]
    },
    {
      "cell_type": "code",
      "metadata": {
        "id": "e59EG-AENyuo",
        "colab_type": "code",
        "colab": {
          "base_uri": "https://localhost:8080/",
          "height": 198
        },
        "outputId": "88c7fce1-d8f5-42e0-b828-396797f02bc1"
      },
      "source": [
        "dataset = dataset.drop('Sex')\n",
        "dataset = dataset.drop('Embarked')\n",
        "\n",
        "dataset.toPandas().head()"
      ],
      "execution_count": 7,
      "outputs": [
        {
          "output_type": "execute_result",
          "data": {
            "text/html": [
              "<div>\n",
              "<style scoped>\n",
              "    .dataframe tbody tr th:only-of-type {\n",
              "        vertical-align: middle;\n",
              "    }\n",
              "\n",
              "    .dataframe tbody tr th {\n",
              "        vertical-align: top;\n",
              "    }\n",
              "\n",
              "    .dataframe thead th {\n",
              "        text-align: right;\n",
              "    }\n",
              "</style>\n",
              "<table border=\"1\" class=\"dataframe\">\n",
              "  <thead>\n",
              "    <tr style=\"text-align: right;\">\n",
              "      <th></th>\n",
              "      <th>Survived</th>\n",
              "      <th>Pclass</th>\n",
              "      <th>Age</th>\n",
              "      <th>Fare</th>\n",
              "      <th>Gender</th>\n",
              "      <th>Boarded</th>\n",
              "    </tr>\n",
              "  </thead>\n",
              "  <tbody>\n",
              "    <tr>\n",
              "      <th>0</th>\n",
              "      <td>0.0</td>\n",
              "      <td>3.0</td>\n",
              "      <td>22.0</td>\n",
              "      <td>7.250000</td>\n",
              "      <td>0.0</td>\n",
              "      <td>0.0</td>\n",
              "    </tr>\n",
              "    <tr>\n",
              "      <th>1</th>\n",
              "      <td>1.0</td>\n",
              "      <td>1.0</td>\n",
              "      <td>38.0</td>\n",
              "      <td>71.283302</td>\n",
              "      <td>1.0</td>\n",
              "      <td>1.0</td>\n",
              "    </tr>\n",
              "    <tr>\n",
              "      <th>2</th>\n",
              "      <td>1.0</td>\n",
              "      <td>3.0</td>\n",
              "      <td>26.0</td>\n",
              "      <td>7.925000</td>\n",
              "      <td>1.0</td>\n",
              "      <td>0.0</td>\n",
              "    </tr>\n",
              "    <tr>\n",
              "      <th>3</th>\n",
              "      <td>1.0</td>\n",
              "      <td>1.0</td>\n",
              "      <td>35.0</td>\n",
              "      <td>53.099998</td>\n",
              "      <td>1.0</td>\n",
              "      <td>0.0</td>\n",
              "    </tr>\n",
              "    <tr>\n",
              "      <th>4</th>\n",
              "      <td>0.0</td>\n",
              "      <td>3.0</td>\n",
              "      <td>35.0</td>\n",
              "      <td>8.050000</td>\n",
              "      <td>0.0</td>\n",
              "      <td>0.0</td>\n",
              "    </tr>\n",
              "  </tbody>\n",
              "</table>\n",
              "</div>"
            ],
            "text/plain": [
              "   Survived  Pclass   Age       Fare  Gender  Boarded\n",
              "0       0.0     3.0  22.0   7.250000     0.0      0.0\n",
              "1       1.0     1.0  38.0  71.283302     1.0      1.0\n",
              "2       1.0     3.0  26.0   7.925000     1.0      0.0\n",
              "3       1.0     1.0  35.0  53.099998     1.0      0.0\n",
              "4       0.0     3.0  35.0   8.050000     0.0      0.0"
            ]
          },
          "metadata": {
            "tags": []
          },
          "execution_count": 7
        }
      ]
    },
    {
      "cell_type": "markdown",
      "metadata": {
        "id": "v5iaGdxsNyus",
        "colab_type": "text"
      },
      "source": [
        "#### Define the required features to use in the VectorAssembler\n",
        "Since we are only examining data and not making predictions, we include all columns"
      ]
    },
    {
      "cell_type": "code",
      "metadata": {
        "id": "ofBTWLJ-Nyut",
        "colab_type": "code",
        "colab": {}
      },
      "source": [
        "requiredFeatures = ['Survived',\n",
        "                    'Pclass',\n",
        "                    'Age',\n",
        "                    'Fare',\n",
        "                    'Gender',\n",
        "                    'Boarded'\n",
        "                   ]"
      ],
      "execution_count": 0,
      "outputs": []
    },
    {
      "cell_type": "markdown",
      "metadata": {
        "id": "CZVf72FjNyux",
        "colab_type": "text"
      },
      "source": [
        "#### The VectorAssembler vectorises all the features\n",
        "The transformed data will be used for clustering"
      ]
    },
    {
      "cell_type": "code",
      "metadata": {
        "id": "-CYK5i6uNyuy",
        "colab_type": "code",
        "colab": {}
      },
      "source": [
        "from pyspark.ml.feature import VectorAssembler\n",
        "\n",
        "assembler = VectorAssembler(inputCols=requiredFeatures, outputCol='features')"
      ],
      "execution_count": 0,
      "outputs": []
    },
    {
      "cell_type": "markdown",
      "metadata": {
        "id": "kJRvA0xlNyu1",
        "colab_type": "text"
      },
      "source": [
        "#### Transorm our dataset for use in our clustering algorithm"
      ]
    },
    {
      "cell_type": "code",
      "metadata": {
        "id": "sfip5tPuNyu1",
        "colab_type": "code",
        "colab": {}
      },
      "source": [
        "transformed_data = assembler.transform(dataset)"
      ],
      "execution_count": 0,
      "outputs": []
    },
    {
      "cell_type": "code",
      "metadata": {
        "id": "yptTzcHwNyu6",
        "colab_type": "code",
        "colab": {
          "base_uri": "https://localhost:8080/",
          "height": 198
        },
        "outputId": "763473d8-71be-48b6-9c7d-1d6c9bc79f5a"
      },
      "source": [
        "transformed_data.toPandas().head()"
      ],
      "execution_count": 12,
      "outputs": [
        {
          "output_type": "execute_result",
          "data": {
            "text/html": [
              "<div>\n",
              "<style scoped>\n",
              "    .dataframe tbody tr th:only-of-type {\n",
              "        vertical-align: middle;\n",
              "    }\n",
              "\n",
              "    .dataframe tbody tr th {\n",
              "        vertical-align: top;\n",
              "    }\n",
              "\n",
              "    .dataframe thead th {\n",
              "        text-align: right;\n",
              "    }\n",
              "</style>\n",
              "<table border=\"1\" class=\"dataframe\">\n",
              "  <thead>\n",
              "    <tr style=\"text-align: right;\">\n",
              "      <th></th>\n",
              "      <th>Survived</th>\n",
              "      <th>Pclass</th>\n",
              "      <th>Age</th>\n",
              "      <th>Fare</th>\n",
              "      <th>Gender</th>\n",
              "      <th>Boarded</th>\n",
              "      <th>features</th>\n",
              "    </tr>\n",
              "  </thead>\n",
              "  <tbody>\n",
              "    <tr>\n",
              "      <th>0</th>\n",
              "      <td>0.0</td>\n",
              "      <td>3.0</td>\n",
              "      <td>22.0</td>\n",
              "      <td>7.250000</td>\n",
              "      <td>0.0</td>\n",
              "      <td>0.0</td>\n",
              "      <td>[0.0, 3.0, 22.0, 7.25, 0.0, 0.0]</td>\n",
              "    </tr>\n",
              "    <tr>\n",
              "      <th>1</th>\n",
              "      <td>1.0</td>\n",
              "      <td>1.0</td>\n",
              "      <td>38.0</td>\n",
              "      <td>71.283302</td>\n",
              "      <td>1.0</td>\n",
              "      <td>1.0</td>\n",
              "      <td>[1.0, 1.0, 38.0, 71.2833023071289, 1.0, 1.0]</td>\n",
              "    </tr>\n",
              "    <tr>\n",
              "      <th>2</th>\n",
              "      <td>1.0</td>\n",
              "      <td>3.0</td>\n",
              "      <td>26.0</td>\n",
              "      <td>7.925000</td>\n",
              "      <td>1.0</td>\n",
              "      <td>0.0</td>\n",
              "      <td>[1.0, 3.0, 26.0, 7.925000190734863, 1.0, 0.0]</td>\n",
              "    </tr>\n",
              "    <tr>\n",
              "      <th>3</th>\n",
              "      <td>1.0</td>\n",
              "      <td>1.0</td>\n",
              "      <td>35.0</td>\n",
              "      <td>53.099998</td>\n",
              "      <td>1.0</td>\n",
              "      <td>0.0</td>\n",
              "      <td>[1.0, 1.0, 35.0, 53.099998474121094, 1.0, 0.0]</td>\n",
              "    </tr>\n",
              "    <tr>\n",
              "      <th>4</th>\n",
              "      <td>0.0</td>\n",
              "      <td>3.0</td>\n",
              "      <td>35.0</td>\n",
              "      <td>8.050000</td>\n",
              "      <td>0.0</td>\n",
              "      <td>0.0</td>\n",
              "      <td>[0.0, 3.0, 35.0, 8.050000190734863, 0.0, 0.0]</td>\n",
              "    </tr>\n",
              "  </tbody>\n",
              "</table>\n",
              "</div>"
            ],
            "text/plain": [
              "   Survived  Pclass  ...  Boarded                                        features\n",
              "0       0.0     3.0  ...      0.0                [0.0, 3.0, 22.0, 7.25, 0.0, 0.0]\n",
              "1       1.0     1.0  ...      1.0    [1.0, 1.0, 38.0, 71.2833023071289, 1.0, 1.0]\n",
              "2       1.0     3.0  ...      0.0   [1.0, 3.0, 26.0, 7.925000190734863, 1.0, 0.0]\n",
              "3       1.0     1.0  ...      0.0  [1.0, 1.0, 35.0, 53.099998474121094, 1.0, 0.0]\n",
              "4       0.0     3.0  ...      0.0   [0.0, 3.0, 35.0, 8.050000190734863, 0.0, 0.0]\n",
              "\n",
              "[5 rows x 7 columns]"
            ]
          },
          "metadata": {
            "tags": []
          },
          "execution_count": 12
        }
      ]
    },
    {
      "cell_type": "markdown",
      "metadata": {
        "id": "2T8ojZB6NyvA",
        "colab_type": "text"
      },
      "source": [
        "### Define the clustering model\n",
        "Use K-means clustering\n",
        "* <b>k: </b>Defines the number of clusters\n",
        "* <b>seed: </b>This value is used to set the cluster centers. A different value of seed for the same k will result in clusters being defined differently. In order to reproduce similar clusters when re-running the clustering algorithm use the same values of k and seed"
      ]
    },
    {
      "cell_type": "code",
      "metadata": {
        "id": "ZsxEG-9gNyvB",
        "colab_type": "code",
        "colab": {}
      },
      "source": [
        "from pyspark.ml.clustering import KMeans,BisectingKMeans\n",
        "\n",
        "kmeans = KMeans(k=5, seed=3)\n",
        "model = kmeans.fit(transformed_data)\n",
        "Bkmeans = BisectingKMeans(k=6,seed =3)\n",
        "model1 = Bkmeans.fit(transformed_data)\n"
      ],
      "execution_count": 0,
      "outputs": []
    },
    {
      "cell_type": "markdown",
      "metadata": {
        "id": "7lu8KvuDNyvE",
        "colab_type": "text"
      },
      "source": [
        "#### Create the clusters using the model"
      ]
    },
    {
      "cell_type": "code",
      "metadata": {
        "id": "bJQmBPt5NyvF",
        "colab_type": "code",
        "colab": {}
      },
      "source": [
        "clusterdData = model.transform(transformed_data)\n",
        "clusterdData1 =model1.transform(transformed_data)"
      ],
      "execution_count": 0,
      "outputs": []
    },
    {
      "cell_type": "code",
      "metadata": {
        "id": "q38dEmpORNXJ",
        "colab_type": "code",
        "colab": {
          "base_uri": "https://localhost:8080/",
          "height": 35
        },
        "outputId": "367aae4c-58f6-40c1-e6e9-5fabc47a4f50"
      },
      "source": [
        "# Evaluate clustering by computing Within Set Sum of Squared Errors.\n",
        "wssse = model.computeCost(transformed_data)\n",
        "wssse1 = model1.computeCost(transformed_data)\n",
        "\n",
        "print(\"Within Set Sum of Squared Errors = \", wssse ,\"mode12\",wssse1 )\n"
      ],
      "execution_count": 33,
      "outputs": [
        {
          "output_type": "stream",
          "text": [
            "Within Set Sum of Squared Errors =  234474.9481701427 mode12 335397.25139421254\n"
          ],
          "name": "stdout"
        }
      ]
    },
    {
      "cell_type": "markdown",
      "metadata": {
        "id": "elFeWFQ0NyvH",
        "colab_type": "text"
      },
      "source": [
        "#### Use ClusteringEvaluator to evaluate the clusters\n",
        "<b>From Wikipedia: </b>The silhouette value is a measure of how similar an object is to its own cluster (cohesion) compared to other clusters (separation). The silhouette ranges from −1 to +1, where a high value indicates that the object is well matched to its own cluster and poorly matched to neighboring clusters. If most objects have a high value, then the clustering configuration is appropriate. If many points have a low or negative value, then the clustering configuration may have too many or too few clusters."
      ]
    },
    {
      "cell_type": "code",
      "metadata": {
        "id": "J-X-xR88NyvI",
        "colab_type": "code",
        "colab": {
          "base_uri": "https://localhost:8080/",
          "height": 35
        },
        "outputId": "ae93a804-b5a6-41f6-b148-7c99d2ffdafb"
      },
      "source": [
        "from pyspark.ml.evaluation import ClusteringEvaluator\n",
        "\n",
        "evaluator = ClusteringEvaluator()\n",
        "silhouette = evaluator.evaluate(clusterdData)\n",
        "silhouette1 = evaluator.evaluate(clusterdData1)\n",
        "print('Silhouette with squared euclidean distance = ', silhouette,silhouette1)"
      ],
      "execution_count": 34,
      "outputs": [
        {
          "output_type": "stream",
          "text": [
            "Silhouette with squared euclidean distance =  0.777943052058315 0.5327625141747653\n"
          ],
          "name": "stdout"
        }
      ]
    },
    {
      "cell_type": "markdown",
      "metadata": {
        "id": "oJibQ99qNyvK",
        "colab_type": "text"
      },
      "source": [
        "#### View the cluster centers for each of the features"
      ]
    },
    {
      "cell_type": "code",
      "metadata": {
        "id": "E7M0EsX8NyvK",
        "colab_type": "code",
        "colab": {
          "base_uri": "https://localhost:8080/",
          "height": 181
        },
        "outputId": "66493ad7-06ab-4b27-f40a-d19e0ee18d65"
      },
      "source": [
        "centers = model.clusterCenters()\n",
        "print('Cluster Centers: ')\n",
        "for center in centers:\n",
        "    print(center)"
      ],
      "execution_count": 15,
      "outputs": [
        {
          "output_type": "stream",
          "text": [
            "Cluster Centers: \n",
            "[ 0.33510638  2.51595745 28.41710993 15.68403444  0.32092199  0.21808511]\n",
            "[  0.73333333   1.          30.33333333 239.99193726   0.73333333\n",
            "   0.53333333]\n",
            "[  0.73333333   1.          32.43066667 131.18388341   0.63333333\n",
            "   0.5       ]\n",
            "[1.00000000e+00 1.00000000e+00 3.53333333e+01 5.12329224e+02\n",
            " 3.33333333e-01 1.00000000e+00]\n",
            "[ 0.63        1.28       35.44       66.93704395  0.47        0.37      ]\n"
          ],
          "name": "stdout"
        }
      ]
    },
    {
      "cell_type": "markdown",
      "metadata": {
        "id": "4v8IOEpANyvN",
        "colab_type": "text"
      },
      "source": [
        "#### View the output of the KMeans model\n",
        "The prediction field denotes the cluster number"
      ]
    },
    {
      "cell_type": "code",
      "metadata": {
        "id": "EqSMJFNoNyvN",
        "colab_type": "code",
        "colab": {},
        "outputId": "9afdb5dd-d9fe-4d51-e90c-cdfda1d34f3c"
      },
      "source": [
        "clusterdData.toPandas().head()"
      ],
      "execution_count": 0,
      "outputs": [
        {
          "output_type": "execute_result",
          "data": {
            "text/html": [
              "<div>\n",
              "<style>\n",
              "    .dataframe thead tr:only-child th {\n",
              "        text-align: right;\n",
              "    }\n",
              "\n",
              "    .dataframe thead th {\n",
              "        text-align: left;\n",
              "    }\n",
              "\n",
              "    .dataframe tbody tr th {\n",
              "        vertical-align: top;\n",
              "    }\n",
              "</style>\n",
              "<table border=\"1\" class=\"dataframe\">\n",
              "  <thead>\n",
              "    <tr style=\"text-align: right;\">\n",
              "      <th></th>\n",
              "      <th>Survived</th>\n",
              "      <th>Pclass</th>\n",
              "      <th>Age</th>\n",
              "      <th>Fare</th>\n",
              "      <th>Gender</th>\n",
              "      <th>Boarded</th>\n",
              "      <th>features</th>\n",
              "      <th>prediction</th>\n",
              "    </tr>\n",
              "  </thead>\n",
              "  <tbody>\n",
              "    <tr>\n",
              "      <th>0</th>\n",
              "      <td>0.0</td>\n",
              "      <td>3.0</td>\n",
              "      <td>22.0</td>\n",
              "      <td>7.250000</td>\n",
              "      <td>0.0</td>\n",
              "      <td>0.0</td>\n",
              "      <td>[0.0, 3.0, 22.0, 7.25, 0.0, 0.0]</td>\n",
              "      <td>0</td>\n",
              "    </tr>\n",
              "    <tr>\n",
              "      <th>1</th>\n",
              "      <td>1.0</td>\n",
              "      <td>1.0</td>\n",
              "      <td>38.0</td>\n",
              "      <td>71.283302</td>\n",
              "      <td>1.0</td>\n",
              "      <td>1.0</td>\n",
              "      <td>[1.0, 1.0, 38.0, 71.2833023071289, 1.0, 1.0]</td>\n",
              "      <td>4</td>\n",
              "    </tr>\n",
              "    <tr>\n",
              "      <th>2</th>\n",
              "      <td>1.0</td>\n",
              "      <td>3.0</td>\n",
              "      <td>26.0</td>\n",
              "      <td>7.925000</td>\n",
              "      <td>1.0</td>\n",
              "      <td>0.0</td>\n",
              "      <td>[1.0, 3.0, 26.0, 7.925000190734863, 1.0, 0.0]</td>\n",
              "      <td>0</td>\n",
              "    </tr>\n",
              "    <tr>\n",
              "      <th>3</th>\n",
              "      <td>1.0</td>\n",
              "      <td>1.0</td>\n",
              "      <td>35.0</td>\n",
              "      <td>53.099998</td>\n",
              "      <td>1.0</td>\n",
              "      <td>0.0</td>\n",
              "      <td>[1.0, 1.0, 35.0, 53.099998474121094, 1.0, 0.0]</td>\n",
              "      <td>4</td>\n",
              "    </tr>\n",
              "    <tr>\n",
              "      <th>4</th>\n",
              "      <td>0.0</td>\n",
              "      <td>3.0</td>\n",
              "      <td>35.0</td>\n",
              "      <td>8.050000</td>\n",
              "      <td>0.0</td>\n",
              "      <td>0.0</td>\n",
              "      <td>[0.0, 3.0, 35.0, 8.050000190734863, 0.0, 0.0]</td>\n",
              "      <td>0</td>\n",
              "    </tr>\n",
              "  </tbody>\n",
              "</table>\n",
              "</div>"
            ],
            "text/plain": [
              "   Survived  Pclass   Age       Fare  Gender  Boarded  \\\n",
              "0       0.0     3.0  22.0   7.250000     0.0      0.0   \n",
              "1       1.0     1.0  38.0  71.283302     1.0      1.0   \n",
              "2       1.0     3.0  26.0   7.925000     1.0      0.0   \n",
              "3       1.0     1.0  35.0  53.099998     1.0      0.0   \n",
              "4       0.0     3.0  35.0   8.050000     0.0      0.0   \n",
              "\n",
              "                                         features  prediction  \n",
              "0                [0.0, 3.0, 22.0, 7.25, 0.0, 0.0]           0  \n",
              "1    [1.0, 1.0, 38.0, 71.2833023071289, 1.0, 1.0]           4  \n",
              "2   [1.0, 3.0, 26.0, 7.925000190734863, 1.0, 0.0]           0  \n",
              "3  [1.0, 1.0, 35.0, 53.099998474121094, 1.0, 0.0]           4  \n",
              "4   [0.0, 3.0, 35.0, 8.050000190734863, 0.0, 0.0]           0  "
            ]
          },
          "metadata": {
            "tags": []
          },
          "execution_count": 15
        }
      ]
    },
    {
      "cell_type": "markdown",
      "metadata": {
        "id": "2_sj1fZiNyvQ",
        "colab_type": "text"
      },
      "source": [
        "#### Get the average of each feature in the original data\n",
        "This is the equivalent of the cluster center when our dataset is one big cluster\n",
        "* We import all sql functions as we need the avg and count functions among others"
      ]
    },
    {
      "cell_type": "code",
      "metadata": {
        "id": "l-W2Z5CaNyvR",
        "colab_type": "code",
        "colab": {
          "base_uri": "https://localhost:8080/",
          "height": 78
        },
        "outputId": "77ff5252-2ae8-414c-a1d2-a8dfee582003"
      },
      "source": [
        "from pyspark.sql.functions import *\n",
        "\n",
        "dataset.select(avg('Survived'),\n",
        "               avg('Pclass'),\n",
        "               avg('Age'),\n",
        "               avg('Fare'),\n",
        "               avg('Gender'),\n",
        "               avg('Boarded')).toPandas()"
      ],
      "execution_count": 16,
      "outputs": [
        {
          "output_type": "execute_result",
          "data": {
            "text/html": [
              "<div>\n",
              "<style scoped>\n",
              "    .dataframe tbody tr th:only-of-type {\n",
              "        vertical-align: middle;\n",
              "    }\n",
              "\n",
              "    .dataframe tbody tr th {\n",
              "        vertical-align: top;\n",
              "    }\n",
              "\n",
              "    .dataframe thead th {\n",
              "        text-align: right;\n",
              "    }\n",
              "</style>\n",
              "<table border=\"1\" class=\"dataframe\">\n",
              "  <thead>\n",
              "    <tr style=\"text-align: right;\">\n",
              "      <th></th>\n",
              "      <th>avg(Survived)</th>\n",
              "      <th>avg(Pclass)</th>\n",
              "      <th>avg(Age)</th>\n",
              "      <th>avg(Fare)</th>\n",
              "      <th>avg(Gender)</th>\n",
              "      <th>avg(Boarded)</th>\n",
              "    </tr>\n",
              "  </thead>\n",
              "  <tbody>\n",
              "    <tr>\n",
              "      <th>0</th>\n",
              "      <td>0.404494</td>\n",
              "      <td>2.240169</td>\n",
              "      <td>29.642093</td>\n",
              "      <td>34.567251</td>\n",
              "      <td>0.363764</td>\n",
              "      <td>0.261236</td>\n",
              "    </tr>\n",
              "  </tbody>\n",
              "</table>\n",
              "</div>"
            ],
            "text/plain": [
              "   avg(Survived)  avg(Pclass)   avg(Age)  avg(Fare)  avg(Gender)  avg(Boarded)\n",
              "0       0.404494     2.240169  29.642093  34.567251     0.363764      0.261236"
            ]
          },
          "metadata": {
            "tags": []
          },
          "execution_count": 16
        }
      ]
    },
    {
      "cell_type": "markdown",
      "metadata": {
        "id": "6BkkzoUPNyvU",
        "colab_type": "text"
      },
      "source": [
        "#### A more intuitive way to view the cluster centers in our clusterdData\n",
        "* We group by clusterID (prediction) and compute the average of all features\n",
        "* We do a count of values in each cluster"
      ]
    },
    {
      "cell_type": "code",
      "metadata": {
        "id": "3q9CrnPRNyvV",
        "colab_type": "code",
        "colab": {
          "base_uri": "https://localhost:8080/",
          "height": 218
        },
        "outputId": "81a07065-4867-46a4-964b-9e8bb3dedb8a"
      },
      "source": [
        "clusterdData.groupBy('prediction').agg(avg('Survived'),\n",
        "                                      avg('Pclass'),\n",
        "                                      avg('Age'),\n",
        "                                      avg('Fare'),\n",
        "                                      avg('Gender'),\n",
        "                                      avg('Boarded'),\n",
        "                                      count('prediction')\n",
        "                                     ).orderBy('prediction').toPandas()"
      ],
      "execution_count": 17,
      "outputs": [
        {
          "output_type": "execute_result",
          "data": {
            "text/html": [
              "<div>\n",
              "<style scoped>\n",
              "    .dataframe tbody tr th:only-of-type {\n",
              "        vertical-align: middle;\n",
              "    }\n",
              "\n",
              "    .dataframe tbody tr th {\n",
              "        vertical-align: top;\n",
              "    }\n",
              "\n",
              "    .dataframe thead th {\n",
              "        text-align: right;\n",
              "    }\n",
              "</style>\n",
              "<table border=\"1\" class=\"dataframe\">\n",
              "  <thead>\n",
              "    <tr style=\"text-align: right;\">\n",
              "      <th></th>\n",
              "      <th>prediction</th>\n",
              "      <th>avg(Survived)</th>\n",
              "      <th>avg(Pclass)</th>\n",
              "      <th>avg(Age)</th>\n",
              "      <th>avg(Fare)</th>\n",
              "      <th>avg(Gender)</th>\n",
              "      <th>avg(Boarded)</th>\n",
              "      <th>count(prediction)</th>\n",
              "    </tr>\n",
              "  </thead>\n",
              "  <tbody>\n",
              "    <tr>\n",
              "      <th>0</th>\n",
              "      <td>0</td>\n",
              "      <td>0.335106</td>\n",
              "      <td>2.515957</td>\n",
              "      <td>28.417110</td>\n",
              "      <td>15.684034</td>\n",
              "      <td>0.320922</td>\n",
              "      <td>0.218085</td>\n",
              "      <td>564</td>\n",
              "    </tr>\n",
              "    <tr>\n",
              "      <th>1</th>\n",
              "      <td>1</td>\n",
              "      <td>0.733333</td>\n",
              "      <td>1.000000</td>\n",
              "      <td>30.333333</td>\n",
              "      <td>239.991937</td>\n",
              "      <td>0.733333</td>\n",
              "      <td>0.533333</td>\n",
              "      <td>15</td>\n",
              "    </tr>\n",
              "    <tr>\n",
              "      <th>2</th>\n",
              "      <td>2</td>\n",
              "      <td>0.733333</td>\n",
              "      <td>1.000000</td>\n",
              "      <td>32.430667</td>\n",
              "      <td>131.183883</td>\n",
              "      <td>0.633333</td>\n",
              "      <td>0.500000</td>\n",
              "      <td>30</td>\n",
              "    </tr>\n",
              "    <tr>\n",
              "      <th>3</th>\n",
              "      <td>3</td>\n",
              "      <td>1.000000</td>\n",
              "      <td>1.000000</td>\n",
              "      <td>35.333333</td>\n",
              "      <td>512.329224</td>\n",
              "      <td>0.333333</td>\n",
              "      <td>1.000000</td>\n",
              "      <td>3</td>\n",
              "    </tr>\n",
              "    <tr>\n",
              "      <th>4</th>\n",
              "      <td>4</td>\n",
              "      <td>0.630000</td>\n",
              "      <td>1.280000</td>\n",
              "      <td>35.440000</td>\n",
              "      <td>66.937044</td>\n",
              "      <td>0.470000</td>\n",
              "      <td>0.370000</td>\n",
              "      <td>100</td>\n",
              "    </tr>\n",
              "  </tbody>\n",
              "</table>\n",
              "</div>"
            ],
            "text/plain": [
              "   prediction  avg(Survived)  ...  avg(Boarded)  count(prediction)\n",
              "0           0       0.335106  ...      0.218085                564\n",
              "1           1       0.733333  ...      0.533333                 15\n",
              "2           2       0.733333  ...      0.500000                 30\n",
              "3           3       1.000000  ...      1.000000                  3\n",
              "4           4       0.630000  ...      0.370000                100\n",
              "\n",
              "[5 rows x 8 columns]"
            ]
          },
          "metadata": {
            "tags": []
          },
          "execution_count": 17
        }
      ]
    },
    {
      "cell_type": "markdown",
      "metadata": {
        "id": "hy_xmXZvNyvX",
        "colab_type": "text"
      },
      "source": [
        "#### Examine all rows in one of the clusters"
      ]
    },
    {
      "cell_type": "code",
      "metadata": {
        "id": "eDWcBsSyNyvX",
        "colab_type": "code",
        "colab": {},
        "outputId": "cabe6f1c-636e-4b83-e115-8b77940b6284"
      },
      "source": [
        "clusterdData.filter(clusterdData.prediction == 1).toPandas()"
      ],
      "execution_count": 0,
      "outputs": [
        {
          "output_type": "execute_result",
          "data": {
            "text/html": [
              "<div>\n",
              "<style>\n",
              "    .dataframe thead tr:only-child th {\n",
              "        text-align: right;\n",
              "    }\n",
              "\n",
              "    .dataframe thead th {\n",
              "        text-align: left;\n",
              "    }\n",
              "\n",
              "    .dataframe tbody tr th {\n",
              "        vertical-align: top;\n",
              "    }\n",
              "</style>\n",
              "<table border=\"1\" class=\"dataframe\">\n",
              "  <thead>\n",
              "    <tr style=\"text-align: right;\">\n",
              "      <th></th>\n",
              "      <th>Survived</th>\n",
              "      <th>Pclass</th>\n",
              "      <th>Age</th>\n",
              "      <th>Fare</th>\n",
              "      <th>Gender</th>\n",
              "      <th>Boarded</th>\n",
              "      <th>features</th>\n",
              "      <th>prediction</th>\n",
              "    </tr>\n",
              "  </thead>\n",
              "  <tbody>\n",
              "    <tr>\n",
              "      <th>0</th>\n",
              "      <td>0.0</td>\n",
              "      <td>1.0</td>\n",
              "      <td>19.0</td>\n",
              "      <td>263.000000</td>\n",
              "      <td>0.0</td>\n",
              "      <td>0.0</td>\n",
              "      <td>[0.0, 1.0, 19.0, 263.0, 0.0, 0.0]</td>\n",
              "      <td>1</td>\n",
              "    </tr>\n",
              "    <tr>\n",
              "      <th>1</th>\n",
              "      <td>1.0</td>\n",
              "      <td>1.0</td>\n",
              "      <td>23.0</td>\n",
              "      <td>263.000000</td>\n",
              "      <td>1.0</td>\n",
              "      <td>0.0</td>\n",
              "      <td>[1.0, 1.0, 23.0, 263.0, 1.0, 0.0]</td>\n",
              "      <td>1</td>\n",
              "    </tr>\n",
              "    <tr>\n",
              "      <th>2</th>\n",
              "      <td>0.0</td>\n",
              "      <td>1.0</td>\n",
              "      <td>24.0</td>\n",
              "      <td>247.520798</td>\n",
              "      <td>0.0</td>\n",
              "      <td>1.0</td>\n",
              "      <td>[0.0, 1.0, 24.0, 247.5207977294922, 0.0, 1.0]</td>\n",
              "      <td>1</td>\n",
              "    </tr>\n",
              "    <tr>\n",
              "      <th>3</th>\n",
              "      <td>1.0</td>\n",
              "      <td>1.0</td>\n",
              "      <td>50.0</td>\n",
              "      <td>247.520798</td>\n",
              "      <td>1.0</td>\n",
              "      <td>1.0</td>\n",
              "      <td>[1.0, 1.0, 50.0, 247.5207977294922, 1.0, 1.0]</td>\n",
              "      <td>1</td>\n",
              "    </tr>\n",
              "    <tr>\n",
              "      <th>4</th>\n",
              "      <td>1.0</td>\n",
              "      <td>1.0</td>\n",
              "      <td>18.0</td>\n",
              "      <td>262.375000</td>\n",
              "      <td>1.0</td>\n",
              "      <td>1.0</td>\n",
              "      <td>[1.0, 1.0, 18.0, 262.375, 1.0, 1.0]</td>\n",
              "      <td>1</td>\n",
              "    </tr>\n",
              "    <tr>\n",
              "      <th>5</th>\n",
              "      <td>1.0</td>\n",
              "      <td>1.0</td>\n",
              "      <td>24.0</td>\n",
              "      <td>263.000000</td>\n",
              "      <td>1.0</td>\n",
              "      <td>0.0</td>\n",
              "      <td>[1.0, 1.0, 24.0, 263.0, 1.0, 0.0]</td>\n",
              "      <td>1</td>\n",
              "    </tr>\n",
              "    <tr>\n",
              "      <th>6</th>\n",
              "      <td>0.0</td>\n",
              "      <td>1.0</td>\n",
              "      <td>27.0</td>\n",
              "      <td>211.500000</td>\n",
              "      <td>0.0</td>\n",
              "      <td>1.0</td>\n",
              "      <td>[0.0, 1.0, 27.0, 211.5, 0.0, 1.0]</td>\n",
              "      <td>1</td>\n",
              "    </tr>\n",
              "    <tr>\n",
              "      <th>7</th>\n",
              "      <td>1.0</td>\n",
              "      <td>1.0</td>\n",
              "      <td>42.0</td>\n",
              "      <td>227.524994</td>\n",
              "      <td>1.0</td>\n",
              "      <td>1.0</td>\n",
              "      <td>[1.0, 1.0, 42.0, 227.52499389648438, 1.0, 1.0]</td>\n",
              "      <td>1</td>\n",
              "    </tr>\n",
              "    <tr>\n",
              "      <th>8</th>\n",
              "      <td>0.0</td>\n",
              "      <td>1.0</td>\n",
              "      <td>64.0</td>\n",
              "      <td>263.000000</td>\n",
              "      <td>0.0</td>\n",
              "      <td>0.0</td>\n",
              "      <td>[0.0, 1.0, 64.0, 263.0, 0.0, 0.0]</td>\n",
              "      <td>1</td>\n",
              "    </tr>\n",
              "    <tr>\n",
              "      <th>9</th>\n",
              "      <td>1.0</td>\n",
              "      <td>1.0</td>\n",
              "      <td>15.0</td>\n",
              "      <td>211.337494</td>\n",
              "      <td>1.0</td>\n",
              "      <td>0.0</td>\n",
              "      <td>[1.0, 1.0, 15.0, 211.33749389648438, 1.0, 0.0]</td>\n",
              "      <td>1</td>\n",
              "    </tr>\n",
              "    <tr>\n",
              "      <th>10</th>\n",
              "      <td>1.0</td>\n",
              "      <td>1.0</td>\n",
              "      <td>18.0</td>\n",
              "      <td>227.524994</td>\n",
              "      <td>1.0</td>\n",
              "      <td>1.0</td>\n",
              "      <td>[1.0, 1.0, 18.0, 227.52499389648438, 1.0, 1.0]</td>\n",
              "      <td>1</td>\n",
              "    </tr>\n",
              "    <tr>\n",
              "      <th>11</th>\n",
              "      <td>1.0</td>\n",
              "      <td>1.0</td>\n",
              "      <td>38.0</td>\n",
              "      <td>227.524994</td>\n",
              "      <td>1.0</td>\n",
              "      <td>1.0</td>\n",
              "      <td>[1.0, 1.0, 38.0, 227.52499389648438, 1.0, 1.0]</td>\n",
              "      <td>1</td>\n",
              "    </tr>\n",
              "    <tr>\n",
              "      <th>12</th>\n",
              "      <td>1.0</td>\n",
              "      <td>1.0</td>\n",
              "      <td>29.0</td>\n",
              "      <td>211.337494</td>\n",
              "      <td>1.0</td>\n",
              "      <td>0.0</td>\n",
              "      <td>[1.0, 1.0, 29.0, 211.33749389648438, 1.0, 0.0]</td>\n",
              "      <td>1</td>\n",
              "    </tr>\n",
              "    <tr>\n",
              "      <th>13</th>\n",
              "      <td>1.0</td>\n",
              "      <td>1.0</td>\n",
              "      <td>21.0</td>\n",
              "      <td>262.375000</td>\n",
              "      <td>1.0</td>\n",
              "      <td>1.0</td>\n",
              "      <td>[1.0, 1.0, 21.0, 262.375, 1.0, 1.0]</td>\n",
              "      <td>1</td>\n",
              "    </tr>\n",
              "    <tr>\n",
              "      <th>14</th>\n",
              "      <td>1.0</td>\n",
              "      <td>1.0</td>\n",
              "      <td>43.0</td>\n",
              "      <td>211.337494</td>\n",
              "      <td>1.0</td>\n",
              "      <td>0.0</td>\n",
              "      <td>[1.0, 1.0, 43.0, 211.33749389648438, 1.0, 0.0]</td>\n",
              "      <td>1</td>\n",
              "    </tr>\n",
              "  </tbody>\n",
              "</table>\n",
              "</div>"
            ],
            "text/plain": [
              "    Survived  Pclass   Age        Fare  Gender  Boarded  \\\n",
              "0        0.0     1.0  19.0  263.000000     0.0      0.0   \n",
              "1        1.0     1.0  23.0  263.000000     1.0      0.0   \n",
              "2        0.0     1.0  24.0  247.520798     0.0      1.0   \n",
              "3        1.0     1.0  50.0  247.520798     1.0      1.0   \n",
              "4        1.0     1.0  18.0  262.375000     1.0      1.0   \n",
              "5        1.0     1.0  24.0  263.000000     1.0      0.0   \n",
              "6        0.0     1.0  27.0  211.500000     0.0      1.0   \n",
              "7        1.0     1.0  42.0  227.524994     1.0      1.0   \n",
              "8        0.0     1.0  64.0  263.000000     0.0      0.0   \n",
              "9        1.0     1.0  15.0  211.337494     1.0      0.0   \n",
              "10       1.0     1.0  18.0  227.524994     1.0      1.0   \n",
              "11       1.0     1.0  38.0  227.524994     1.0      1.0   \n",
              "12       1.0     1.0  29.0  211.337494     1.0      0.0   \n",
              "13       1.0     1.0  21.0  262.375000     1.0      1.0   \n",
              "14       1.0     1.0  43.0  211.337494     1.0      0.0   \n",
              "\n",
              "                                          features  prediction  \n",
              "0                [0.0, 1.0, 19.0, 263.0, 0.0, 0.0]           1  \n",
              "1                [1.0, 1.0, 23.0, 263.0, 1.0, 0.0]           1  \n",
              "2    [0.0, 1.0, 24.0, 247.5207977294922, 0.0, 1.0]           1  \n",
              "3    [1.0, 1.0, 50.0, 247.5207977294922, 1.0, 1.0]           1  \n",
              "4              [1.0, 1.0, 18.0, 262.375, 1.0, 1.0]           1  \n",
              "5                [1.0, 1.0, 24.0, 263.0, 1.0, 0.0]           1  \n",
              "6                [0.0, 1.0, 27.0, 211.5, 0.0, 1.0]           1  \n",
              "7   [1.0, 1.0, 42.0, 227.52499389648438, 1.0, 1.0]           1  \n",
              "8                [0.0, 1.0, 64.0, 263.0, 0.0, 0.0]           1  \n",
              "9   [1.0, 1.0, 15.0, 211.33749389648438, 1.0, 0.0]           1  \n",
              "10  [1.0, 1.0, 18.0, 227.52499389648438, 1.0, 1.0]           1  \n",
              "11  [1.0, 1.0, 38.0, 227.52499389648438, 1.0, 1.0]           1  \n",
              "12  [1.0, 1.0, 29.0, 211.33749389648438, 1.0, 0.0]           1  \n",
              "13             [1.0, 1.0, 21.0, 262.375, 1.0, 1.0]           1  \n",
              "14  [1.0, 1.0, 43.0, 211.33749389648438, 1.0, 0.0]           1  "
            ]
          },
          "metadata": {
            "tags": []
          },
          "execution_count": 18
        }
      ]
    },
    {
      "cell_type": "code",
      "metadata": {
        "id": "-BB-oZR8NyvZ",
        "colab_type": "code",
        "colab": {}
      },
      "source": [
        ""
      ],
      "execution_count": 0,
      "outputs": []
    }
  ]
}