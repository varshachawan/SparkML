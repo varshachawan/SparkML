{
  "nbformat": 4,
  "nbformat_minor": 0,
  "metadata": {
    "kernelspec": {
      "display_name": "Python 3",
      "language": "python",
      "name": "python3"
    },
    "language_info": {
      "codemirror_mode": {
        "name": "ipython",
        "version": 3
      },
      "file_extension": ".py",
      "mimetype": "text/x-python",
      "name": "python",
      "nbconvert_exporter": "python",
      "pygments_lexer": "ipython3",
      "version": "3.6.4"
    },
    "colab": {
      "name": "DecisonTree_WineData_SparkML.ipynb",
      "provenance": [],
      "toc_visible": true,
      "include_colab_link": true
    }
  },
  "cells": [
    {
      "cell_type": "markdown",
      "metadata": {
        "id": "view-in-github",
        "colab_type": "text"
      },
      "source": [
        "<a href=\"https://colab.research.google.com/github/varshachawan/SparkML/blob/master/DecisonTree_WineData_SparkML.ipynb\" target=\"_parent\"><img src=\"https://colab.research.google.com/assets/colab-badge.svg\" alt=\"Open In Colab\"/></a>"
      ]
    },
    {
      "cell_type": "markdown",
      "metadata": {
        "id": "GkohVyHJcoDB",
        "colab_type": "text"
      },
      "source": [
        "### Check the SQLContext\n",
        "The entry point into all functionality in Spark SQL <br />\n",
        "The SQLContext can be used to create a Spark Dataframe (as opposed to an RDD) from a data source"
      ]
    },
    {
      "cell_type": "code",
      "metadata": {
        "id": "g_1gKyNLcyXa",
        "colab_type": "code",
        "colab": {}
      },
      "source": [
        "!apt-get install openjdk-8-jdk-headless -qq > /dev/null\n",
        "!wget -q https://mirror.olnevhost.net/pub/apache/spark/spark-2.4.5/spark-2.4.5-bin-hadoop2.7.tgz"
      ],
      "execution_count": 0,
      "outputs": []
    },
    {
      "cell_type": "code",
      "metadata": {
        "id": "8TI82JA8c1Zd",
        "colab_type": "code",
        "colab": {
          "base_uri": "https://localhost:8080/",
          "height": 35
        },
        "outputId": "ad1b3265-9673-4569-e032-d11537b5e722"
      },
      "source": [
        "!tar xf spark-2.4.5-bin-hadoop2.7.tgz\n",
        "!pip install -q findspark\n",
        "import os\n",
        "os.environ[\"JAVA_HOME\"]=\"/usr/lib/jvm/java-8-openjdk-amd64\"\n",
        "os.environ[\"SPARK_HOME\"]=\"/content/spark-2.4.5-bin-hadoop2.7\"\n",
        "!echo $JAVA_HOME\n",
        "import findspark\n",
        "findspark.init()"
      ],
      "execution_count": 2,
      "outputs": [
        {
          "output_type": "stream",
          "text": [
            "/usr/lib/jvm/java-8-openjdk-amd64\n"
          ],
          "name": "stdout"
        }
      ]
    },
    {
      "cell_type": "markdown",
      "metadata": {
        "id": "lAM3ZsvocoDC",
        "colab_type": "text"
      },
      "source": [
        "<b>Dataset location: </b>https://archive.ics.uci.edu/ml/machine-learning-databases/wine/wine.data <br />\n",
        "The same dataset we have used so far"
      ]
    },
    {
      "cell_type": "code",
      "metadata": {
        "id": "C9HVPB1mcoDE",
        "colab_type": "code",
        "colab": {}
      },
      "source": [
        "from pyspark.sql import SparkSession\n",
        "\n",
        "spark = SparkSession \\\n",
        "    .builder \\\n",
        "    .appName('Predicting the grape variety from wine characteristics') \\\n",
        "    .getOrCreate()\n",
        "\n",
        "rawData = spark.read\\\n",
        "            .format('csv')\\\n",
        "            .option('header', 'false')\\\n",
        "            .load('./wine.data')"
      ],
      "execution_count": 0,
      "outputs": []
    },
    {
      "cell_type": "markdown",
      "metadata": {
        "id": "Lq932obtcoDI",
        "colab_type": "text"
      },
      "source": [
        "#### View the schema of the loaded DataFrame\n",
        "* There are no column names\n",
        "* All values are loaded as strings"
      ]
    },
    {
      "cell_type": "code",
      "metadata": {
        "id": "U_VZX-MAcoDJ",
        "colab_type": "code",
        "colab": {},
        "outputId": "dfbb9aa9-f5e3-4280-bbe6-3058bf30760b"
      },
      "source": [
        "rawData"
      ],
      "execution_count": 0,
      "outputs": [
        {
          "output_type": "execute_result",
          "data": {
            "text/plain": [
              "DataFrame[_c0: string, _c1: string, _c2: string, _c3: string, _c4: string, _c5: string, _c6: string, _c7: string, _c8: string, _c9: string, _c10: string, _c11: string, _c12: string, _c13: string]"
            ]
          },
          "metadata": {
            "tags": []
          },
          "execution_count": 2
        }
      ]
    },
    {
      "cell_type": "markdown",
      "metadata": {
        "id": "4H4ZE-vtcoDM",
        "colab_type": "text"
      },
      "source": [
        "#### View the values in the top 5 rows"
      ]
    },
    {
      "cell_type": "code",
      "metadata": {
        "id": "OfajIz9-coDM",
        "colab_type": "code",
        "colab": {},
        "outputId": "b17d5773-275d-425b-f83f-54583cd4f92e"
      },
      "source": [
        "rawData.show(5)"
      ],
      "execution_count": 0,
      "outputs": [
        {
          "output_type": "stream",
          "text": [
            "+---+-----+----+----+----+---+----+----+---+----+----+----+----+----+\n",
            "|_c0|  _c1| _c2| _c3| _c4|_c5| _c6| _c7|_c8| _c9|_c10|_c11|_c12|_c13|\n",
            "+---+-----+----+----+----+---+----+----+---+----+----+----+----+----+\n",
            "|  1|14.23|1.71|2.43|15.6|127| 2.8|3.06|.28|2.29|5.64|1.04|3.92|1065|\n",
            "|  1| 13.2|1.78|2.14|11.2|100|2.65|2.76|.26|1.28|4.38|1.05| 3.4|1050|\n",
            "|  1|13.16|2.36|2.67|18.6|101| 2.8|3.24| .3|2.81|5.68|1.03|3.17|1185|\n",
            "|  1|14.37|1.95| 2.5|16.8|113|3.85|3.49|.24|2.18| 7.8| .86|3.45|1480|\n",
            "|  1|13.24|2.59|2.87|  21|118| 2.8|2.69|.39|1.82|4.32|1.04|2.93| 735|\n",
            "+---+-----+----+----+----+---+----+----+---+----+----+----+----+----+\n",
            "only showing top 5 rows\n",
            "\n"
          ],
          "name": "stdout"
        }
      ]
    },
    {
      "cell_type": "markdown",
      "metadata": {
        "id": "8XaB6nJUcoDP",
        "colab_type": "text"
      },
      "source": [
        "#### Assign names to each of the columns\n",
        "And create a new dataframe from it"
      ]
    },
    {
      "cell_type": "code",
      "metadata": {
        "id": "OB9qmS9ScoDQ",
        "colab_type": "code",
        "colab": {}
      },
      "source": [
        "dataset = rawData.toDF('Label',\n",
        "                'Alcohol',\n",
        "                'MalicAcid',\n",
        "                'Ash',\n",
        "                'AshAlkalinity',\n",
        "                'Magnesium',\n",
        "                'TotalPhenols',\n",
        "                'Flavanoids',\n",
        "                'NonflavanoidPhenols',\n",
        "                'Proanthocyanins',\n",
        "                'ColorIntensity',\n",
        "                'Hue',\n",
        "                'OD',\n",
        "                'Proline'\n",
        "                )"
      ],
      "execution_count": 0,
      "outputs": []
    },
    {
      "cell_type": "markdown",
      "metadata": {
        "id": "LcavXa-PcoDT",
        "colab_type": "text"
      },
      "source": [
        "#### Confirm that the dataset contains the column names"
      ]
    },
    {
      "cell_type": "code",
      "metadata": {
        "id": "9pSYcQrgcoDU",
        "colab_type": "code",
        "colab": {},
        "outputId": "2ddfc2dc-6143-40ad-c867-3d29a14f6142"
      },
      "source": [
        "dataset"
      ],
      "execution_count": 0,
      "outputs": [
        {
          "output_type": "execute_result",
          "data": {
            "text/plain": [
              "DataFrame[Label: string, Alcohol: string, MalicAcid: string, Ash: string, AshAlkalinity: string, Magnesium: string, TotalPhenols: string, Flavanoids: string, NonflavanoidPhenols: string, Proanthocyanins: string, ColorIntensity: string, Hue: string, OD: string, Proline: string]"
            ]
          },
          "metadata": {
            "tags": []
          },
          "execution_count": 5
        }
      ]
    },
    {
      "cell_type": "markdown",
      "metadata": {
        "id": "SfWqmy_ycoDY",
        "colab_type": "text"
      },
      "source": [
        "#### View the dataset with the values"
      ]
    },
    {
      "cell_type": "code",
      "metadata": {
        "id": "Jzk06VWmcoDb",
        "colab_type": "code",
        "colab": {
          "base_uri": "https://localhost:8080/",
          "height": 237
        },
        "outputId": "fc935a68-ad78-496f-e785-406234d86459"
      },
      "source": [
        "dataset.show(5)"
      ],
      "execution_count": 5,
      "outputs": [
        {
          "output_type": "stream",
          "text": [
            "+-----+-------+---------+----+-------------+---------+------------+----------+-------------------+---------------+--------------+----+----+-------+\n",
            "|Label|Alcohol|MalicAcid| Ash|AshAlkalinity|Magnesium|TotalPhenols|Flavanoids|NonflavanoidPhenols|Proanthocyanins|ColorIntensity| Hue|  OD|Proline|\n",
            "+-----+-------+---------+----+-------------+---------+------------+----------+-------------------+---------------+--------------+----+----+-------+\n",
            "|    1|  14.23|     1.71|2.43|         15.6|      127|         2.8|      3.06|                .28|           2.29|          5.64|1.04|3.92|   1065|\n",
            "|    1|   13.2|     1.78|2.14|         11.2|      100|        2.65|      2.76|                .26|           1.28|          4.38|1.05| 3.4|   1050|\n",
            "|    1|  13.16|     2.36|2.67|         18.6|      101|         2.8|      3.24|                 .3|           2.81|          5.68|1.03|3.17|   1185|\n",
            "|    1|  14.37|     1.95| 2.5|         16.8|      113|        3.85|      3.49|                .24|           2.18|           7.8| .86|3.45|   1480|\n",
            "|    1|  13.24|     2.59|2.87|           21|      118|         2.8|      2.69|                .39|           1.82|          4.32|1.04|2.93|    735|\n",
            "+-----+-------+---------+----+-------------+---------+------------+----------+-------------------+---------------+--------------+----+----+-------+\n",
            "only showing top 5 rows\n",
            "\n"
          ],
          "name": "stdout"
        }
      ]
    },
    {
      "cell_type": "markdown",
      "metadata": {
        "id": "qx0s_0VkcoDi",
        "colab_type": "text"
      },
      "source": [
        "#### Define a vectorize function to store the data in the required format for our ML models\n",
        "The ML package needs data be put in a (label: Double, features: Vector) DataFrame format with correspondingly named fields. The vectorize() function does just that\n",
        "* We perform a manual transformation of our dataset here\n",
        "* Spark ML also supplies built-in transformers which we will use shortly"
      ]
    },
    {
      "cell_type": "code",
      "metadata": {
        "id": "z-R3xWoZcoDi",
        "colab_type": "code",
        "colab": {}
      },
      "source": [
        "from pyspark.ml.linalg import Vectors\n",
        "\n",
        "def vectorize(data):\n",
        "    return data.rdd.map(lambda r: [r[0], Vectors.dense(r[1:])]).toDF(['label','features'])"
      ],
      "execution_count": 0,
      "outputs": []
    },
    {
      "cell_type": "markdown",
      "metadata": {
        "id": "Rnkmc-O8coDm",
        "colab_type": "text"
      },
      "source": [
        "#### Convert our data set into the vectorized format"
      ]
    },
    {
      "cell_type": "code",
      "metadata": {
        "id": "EyA_bCDfcoDn",
        "colab_type": "code",
        "colab": {}
      },
      "source": [
        "vectorizedData = vectorize(dataset)"
      ],
      "execution_count": 0,
      "outputs": []
    },
    {
      "cell_type": "code",
      "metadata": {
        "id": "v-6VBDA0coDq",
        "colab_type": "code",
        "colab": {},
        "outputId": "6fd91924-d119-4c5c-a683-009a85b8a83a"
      },
      "source": [
        "vectorizedData.show(5)"
      ],
      "execution_count": 0,
      "outputs": [
        {
          "output_type": "stream",
          "text": [
            "+-----+--------------------+\n",
            "|label|            features|\n",
            "+-----+--------------------+\n",
            "|    1|[14.23,1.71,2.43,...|\n",
            "|    1|[13.2,1.78,2.14,1...|\n",
            "|    1|[13.16,2.36,2.67,...|\n",
            "|    1|[14.37,1.95,2.5,1...|\n",
            "|    1|[13.24,2.59,2.87,...|\n",
            "+-----+--------------------+\n",
            "only showing top 5 rows\n",
            "\n"
          ],
          "name": "stdout"
        }
      ]
    },
    {
      "cell_type": "markdown",
      "metadata": {
        "id": "fIDgWh6OcoDt",
        "colab_type": "text"
      },
      "source": [
        "#### View the transformed dataset\n",
        "The features are now a DenseVector with an array of feature values"
      ]
    },
    {
      "cell_type": "code",
      "metadata": {
        "id": "_OcjCEVNcoDu",
        "colab_type": "code",
        "colab": {
          "base_uri": "https://localhost:8080/",
          "height": 128
        },
        "outputId": "012897ea-90ec-4653-f87c-b178941c4de9"
      },
      "source": [
        "vectorizedData.take(5)"
      ],
      "execution_count": 8,
      "outputs": [
        {
          "output_type": "execute_result",
          "data": {
            "text/plain": [
              "[Row(label='1', features=DenseVector([14.23, 1.71, 2.43, 15.6, 127.0, 2.8, 3.06, 0.28, 2.29, 5.64, 1.04, 3.92, 1065.0])),\n",
              " Row(label='1', features=DenseVector([13.2, 1.78, 2.14, 11.2, 100.0, 2.65, 2.76, 0.26, 1.28, 4.38, 1.05, 3.4, 1050.0])),\n",
              " Row(label='1', features=DenseVector([13.16, 2.36, 2.67, 18.6, 101.0, 2.8, 3.24, 0.3, 2.81, 5.68, 1.03, 3.17, 1185.0])),\n",
              " Row(label='1', features=DenseVector([14.37, 1.95, 2.5, 16.8, 113.0, 3.85, 3.49, 0.24, 2.18, 7.8, 0.86, 3.45, 1480.0])),\n",
              " Row(label='1', features=DenseVector([13.24, 2.59, 2.87, 21.0, 118.0, 2.8, 2.69, 0.39, 1.82, 4.32, 1.04, 2.93, 735.0]))]"
            ]
          },
          "metadata": {
            "tags": []
          },
          "execution_count": 8
        }
      ]
    },
    {
      "cell_type": "markdown",
      "metadata": {
        "id": "qv0IUOLwcoDw",
        "colab_type": "text"
      },
      "source": [
        "#### StringIndexer \n",
        "* It's a feature transformer (can also be used for labels)\n",
        "* Encodes a string column to a column of indices. The indices are in [0, numLabels), ordered by value frequencies, so the most frequent value gets index 0\n",
        "* The label needs to be of type Double which will be handled by StringIndexer"
      ]
    },
    {
      "cell_type": "code",
      "metadata": {
        "id": "oT1xiF0YcoDx",
        "colab_type": "code",
        "colab": {}
      },
      "source": [
        "from pyspark.ml.feature import StringIndexer\n",
        "\n",
        "labelIndexer = StringIndexer(inputCol='label',\n",
        "                             outputCol='indexedLabel')"
      ],
      "execution_count": 0,
      "outputs": []
    },
    {
      "cell_type": "markdown",
      "metadata": {
        "id": "n_6B4DxQcoD0",
        "colab_type": "text"
      },
      "source": [
        "#### Transform the label in the vectorized dataset with the StringIndexer\n",
        "We get a new label field called indexedLabel"
      ]
    },
    {
      "cell_type": "code",
      "metadata": {
        "id": "Nh8y35nScoD0",
        "colab_type": "code",
        "colab": {
          "base_uri": "https://localhost:8080/",
          "height": 219
        },
        "outputId": "0418cfc8-e72a-4fa4-84c8-4ab52eaa8121"
      },
      "source": [
        "indexedData = labelIndexer.fit(vectorizedData).transform(vectorizedData)\n",
        "indexedData.take(10)"
      ],
      "execution_count": 10,
      "outputs": [
        {
          "output_type": "execute_result",
          "data": {
            "text/plain": [
              "[Row(label='1', features=DenseVector([14.23, 1.71, 2.43, 15.6, 127.0, 2.8, 3.06, 0.28, 2.29, 5.64, 1.04, 3.92, 1065.0]), indexedLabel=1.0),\n",
              " Row(label='1', features=DenseVector([13.2, 1.78, 2.14, 11.2, 100.0, 2.65, 2.76, 0.26, 1.28, 4.38, 1.05, 3.4, 1050.0]), indexedLabel=1.0),\n",
              " Row(label='1', features=DenseVector([13.16, 2.36, 2.67, 18.6, 101.0, 2.8, 3.24, 0.3, 2.81, 5.68, 1.03, 3.17, 1185.0]), indexedLabel=1.0),\n",
              " Row(label='1', features=DenseVector([14.37, 1.95, 2.5, 16.8, 113.0, 3.85, 3.49, 0.24, 2.18, 7.8, 0.86, 3.45, 1480.0]), indexedLabel=1.0),\n",
              " Row(label='1', features=DenseVector([13.24, 2.59, 2.87, 21.0, 118.0, 2.8, 2.69, 0.39, 1.82, 4.32, 1.04, 2.93, 735.0]), indexedLabel=1.0),\n",
              " Row(label='1', features=DenseVector([14.2, 1.76, 2.45, 15.2, 112.0, 3.27, 3.39, 0.34, 1.97, 6.75, 1.05, 2.85, 1450.0]), indexedLabel=1.0),\n",
              " Row(label='1', features=DenseVector([14.39, 1.87, 2.45, 14.6, 96.0, 2.5, 2.52, 0.3, 1.98, 5.25, 1.02, 3.58, 1290.0]), indexedLabel=1.0),\n",
              " Row(label='1', features=DenseVector([14.06, 2.15, 2.61, 17.6, 121.0, 2.6, 2.51, 0.31, 1.25, 5.05, 1.06, 3.58, 1295.0]), indexedLabel=1.0),\n",
              " Row(label='1', features=DenseVector([14.83, 1.64, 2.17, 14.0, 97.0, 2.8, 2.98, 0.29, 1.98, 5.2, 1.08, 2.85, 1045.0]), indexedLabel=1.0),\n",
              " Row(label='1', features=DenseVector([13.86, 1.35, 2.27, 16.0, 98.0, 2.98, 3.15, 0.22, 1.85, 7.22, 1.01, 3.55, 1045.0]), indexedLabel=1.0)]"
            ]
          },
          "metadata": {
            "tags": []
          },
          "execution_count": 10
        }
      ]
    },
    {
      "cell_type": "markdown",
      "metadata": {
        "id": "c351feaWcoD3",
        "colab_type": "text"
      },
      "source": [
        "#### Confirm that the indexedLabel is in Double format"
      ]
    },
    {
      "cell_type": "code",
      "metadata": {
        "id": "MjJZsrTlcoD3",
        "colab_type": "code",
        "colab": {},
        "outputId": "24084b56-12d4-4804-c27e-e6f65fa03fc3"
      },
      "source": [
        "indexedData"
      ],
      "execution_count": 0,
      "outputs": [
        {
          "output_type": "execute_result",
          "data": {
            "text/plain": [
              "DataFrame[label: string, features: vector, indexedLabel: double]"
            ]
          },
          "metadata": {
            "tags": []
          },
          "execution_count": 13
        }
      ]
    },
    {
      "cell_type": "code",
      "metadata": {
        "id": "UO_YiedtcoD6",
        "colab_type": "code",
        "colab": {},
        "outputId": "6d227208-ef33-4733-eeb6-315b6beeaadc"
      },
      "source": [
        "indexedData.select('label').distinct().show()"
      ],
      "execution_count": 0,
      "outputs": [
        {
          "output_type": "stream",
          "text": [
            "+-----+\n",
            "|label|\n",
            "+-----+\n",
            "|    3|\n",
            "|    1|\n",
            "|    2|\n",
            "+-----+\n",
            "\n"
          ],
          "name": "stdout"
        }
      ]
    },
    {
      "cell_type": "code",
      "metadata": {
        "id": "QH1gJzixcoD8",
        "colab_type": "code",
        "colab": {},
        "outputId": "b99a1656-c444-477e-dcb0-bd74f6c5b489"
      },
      "source": [
        "indexedData.select('indexedLabel').distinct().show()"
      ],
      "execution_count": 0,
      "outputs": [
        {
          "output_type": "stream",
          "text": [
            "+------------+\n",
            "|indexedLabel|\n",
            "+------------+\n",
            "|         0.0|\n",
            "|         1.0|\n",
            "|         2.0|\n",
            "+------------+\n",
            "\n"
          ],
          "name": "stdout"
        }
      ]
    },
    {
      "cell_type": "markdown",
      "metadata": {
        "id": "03pp1zUgcoD_",
        "colab_type": "text"
      },
      "source": [
        "#### Split the vectorized data into training and test sets"
      ]
    },
    {
      "cell_type": "code",
      "metadata": {
        "id": "LoC1ij-ocoEA",
        "colab_type": "code",
        "colab": {}
      },
      "source": [
        "(trainingData, testData) = indexedData.randomSplit([0.8, 0.2])"
      ],
      "execution_count": 0,
      "outputs": []
    },
    {
      "cell_type": "markdown",
      "metadata": {
        "id": "uxIkKqAVcoED",
        "colab_type": "text"
      },
      "source": [
        "### DecisionTree Classifier\n",
        "* Specify the features and label columns\n",
        "* <b>maxDepth: </b>The maximum depth of the decision tree\n",
        "* <b>impurity: </b>We use gini instead of entropy. Gini measurement is the probability of a random sample being classified correctly. Entropy is a measure of information (seek to maximize information gain when making a split). Outputs generally don't vary much when either option is chosen, but entropy may take longer to compute as it calculates a logarithm"
      ]
    },
    {
      "cell_type": "code",
      "metadata": {
        "id": "N1DSD1F1coED",
        "colab_type": "code",
        "colab": {}
      },
      "source": [
        "from pyspark.ml.classification import DecisionTreeClassifier\n",
        "\n",
        "dtree = DecisionTreeClassifier(\n",
        "    labelCol='indexedLabel', \n",
        "    featuresCol='features',\n",
        "    maxDepth=3,\n",
        "    impurity='gini'\n",
        ")"
      ],
      "execution_count": 0,
      "outputs": []
    },
    {
      "cell_type": "markdown",
      "metadata": {
        "id": "Wu939s6NcoEK",
        "colab_type": "text"
      },
      "source": [
        "#### Traing the model using the training data"
      ]
    },
    {
      "cell_type": "code",
      "metadata": {
        "id": "Y24AKvpncoEL",
        "colab_type": "code",
        "colab": {}
      },
      "source": [
        "model = dtree.fit(trainingData)"
      ],
      "execution_count": 0,
      "outputs": []
    },
    {
      "cell_type": "markdown",
      "metadata": {
        "id": "AgAOznSDcoEN",
        "colab_type": "text"
      },
      "source": [
        "#### Use Spark ML's MulticlassClassificationEvaluator to evaluate the model\n",
        "* Used to evaluate classification models\n",
        "* It takes a set of labels and predictions as input\n",
        "* Similar to (but not the same as MulticlassMetrics in MLLib)\n",
        "* <b>metricName: </b>Can be precision, recall, weightedPrecision, weightedRecall and f1"
      ]
    },
    {
      "cell_type": "code",
      "metadata": {
        "id": "SFF71JfqcoEN",
        "colab_type": "code",
        "colab": {}
      },
      "source": [
        "from pyspark.ml.evaluation import MulticlassClassificationEvaluator\n",
        "\n",
        "evaluator = MulticlassClassificationEvaluator(labelCol='indexedLabel',\n",
        "                                              predictionCol='prediction', \n",
        "                                              metricName='f1',\n",
        "                                              )"
      ],
      "execution_count": 0,
      "outputs": []
    },
    {
      "cell_type": "markdown",
      "metadata": {
        "id": "ZWXggzKccoEP",
        "colab_type": "text"
      },
      "source": [
        "#### Transform the test data using our model to include predictions"
      ]
    },
    {
      "cell_type": "code",
      "metadata": {
        "id": "Sr1j0tQ-coEQ",
        "colab_type": "code",
        "colab": {
          "base_uri": "https://localhost:8080/",
          "height": 217
        },
        "outputId": "579a9d29-2365-419a-ebfe-5a7f748d9706"
      },
      "source": [
        "transformed_data = model.transform(testData)\n",
        "transformed_data.show(5)"
      ],
      "execution_count": 16,
      "outputs": [
        {
          "output_type": "stream",
          "text": [
            "+-----+--------------------+------------+--------------+--------------------+----------+\n",
            "|label|            features|indexedLabel| rawPrediction|         probability|prediction|\n",
            "+-----+--------------------+------------+--------------+--------------------+----------+\n",
            "|    1|[13.39,1.77,2.62,...|         1.0|[0.0,44.0,0.0]|       [0.0,1.0,0.0]|       1.0|\n",
            "|    1|[13.56,1.73,2.46,...|         1.0|[0.0,44.0,0.0]|       [0.0,1.0,0.0]|       1.0|\n",
            "|    1|[13.68,1.83,2.36,...|         1.0|[51.0,2.0,0.0]|[0.96226415094339...|       0.0|\n",
            "|    1|[13.77,1.9,2.68,1...|         1.0|[0.0,44.0,0.0]|       [0.0,1.0,0.0]|       1.0|\n",
            "|    1|[13.82,1.75,2.42,...|         1.0|[0.0,44.0,0.0]|       [0.0,1.0,0.0]|       1.0|\n",
            "+-----+--------------------+------------+--------------+--------------------+----------+\n",
            "only showing top 5 rows\n",
            "\n"
          ],
          "name": "stdout"
        }
      ]
    },
    {
      "cell_type": "markdown",
      "metadata": {
        "id": "YZFfGUmIcoET",
        "colab_type": "text"
      },
      "source": [
        "#### Measure accuracy of model on the test data"
      ]
    },
    {
      "cell_type": "code",
      "metadata": {
        "id": "ZsQFprTccoEU",
        "colab_type": "code",
        "colab": {
          "base_uri": "https://localhost:8080/",
          "height": 35
        },
        "outputId": "b40632b8-cf47-46b3-df67-5ed7a00ba035"
      },
      "source": [
        "print(evaluator.getMetricName(), \n",
        "      'accuracy:', \n",
        "      evaluator.evaluate(transformed_data))"
      ],
      "execution_count": 21,
      "outputs": [
        {
          "output_type": "stream",
          "text": [
            "f1 accuracy: 0.9641496598639456\n"
          ],
          "name": "stdout"
        }
      ]
    },
    {
      "cell_type": "markdown",
      "metadata": {
        "id": "EcshcLaOcoEa",
        "colab_type": "text"
      },
      "source": [
        "#### View only the columns relevant for the predictions"
      ]
    },
    {
      "cell_type": "code",
      "metadata": {
        "id": "eMPY9p96coEa",
        "colab_type": "code",
        "colab": {},
        "outputId": "255c13a3-a0b4-4257-99d1-fd37d3d9ca96"
      },
      "source": [
        "predictions = transformed_data.select('indexedLabel', 'prediction', 'probability')\n",
        "predictions.show(5)"
      ],
      "execution_count": 0,
      "outputs": [
        {
          "output_type": "stream",
          "text": [
            "+------------+----------+--------------------+\n",
            "|indexedLabel|prediction|         probability|\n",
            "+------------+----------+--------------------+\n",
            "|         1.0|       1.0|       [0.0,1.0,0.0]|\n",
            "|         1.0|       1.0|       [0.0,1.0,0.0]|\n",
            "|         1.0|       1.0|       [0.0,1.0,0.0]|\n",
            "|         1.0|       0.0|[0.97872340425531...|\n",
            "|         1.0|       1.0|       [0.0,1.0,0.0]|\n",
            "+------------+----------+--------------------+\n",
            "only showing top 5 rows\n",
            "\n"
          ],
          "name": "stdout"
        }
      ]
    },
    {
      "cell_type": "markdown",
      "metadata": {
        "id": "a4CS_krEcoEd",
        "colab_type": "text"
      },
      "source": [
        "#### Spark dataframes can also be converted to Pandas dataframes\n",
        "View our predictions as a Pandas dataframe"
      ]
    },
    {
      "cell_type": "code",
      "metadata": {
        "id": "C12a3Zx6coEd",
        "colab_type": "code",
        "colab": {},
        "outputId": "84dc510c-af02-4177-bbe9-1d662d2ed7fd"
      },
      "source": [
        "predictions.toPandas().head()"
      ],
      "execution_count": 0,
      "outputs": [
        {
          "output_type": "execute_result",
          "data": {
            "text/html": [
              "<div>\n",
              "<style>\n",
              "    .dataframe thead tr:only-child th {\n",
              "        text-align: right;\n",
              "    }\n",
              "\n",
              "    .dataframe thead th {\n",
              "        text-align: left;\n",
              "    }\n",
              "\n",
              "    .dataframe tbody tr th {\n",
              "        vertical-align: top;\n",
              "    }\n",
              "</style>\n",
              "<table border=\"1\" class=\"dataframe\">\n",
              "  <thead>\n",
              "    <tr style=\"text-align: right;\">\n",
              "      <th></th>\n",
              "      <th>indexedLabel</th>\n",
              "      <th>prediction</th>\n",
              "      <th>probability</th>\n",
              "    </tr>\n",
              "  </thead>\n",
              "  <tbody>\n",
              "    <tr>\n",
              "      <th>0</th>\n",
              "      <td>1.0</td>\n",
              "      <td>1.0</td>\n",
              "      <td>[0.0, 1.0, 0.0]</td>\n",
              "    </tr>\n",
              "    <tr>\n",
              "      <th>1</th>\n",
              "      <td>1.0</td>\n",
              "      <td>1.0</td>\n",
              "      <td>[0.0, 1.0, 0.0]</td>\n",
              "    </tr>\n",
              "    <tr>\n",
              "      <th>2</th>\n",
              "      <td>1.0</td>\n",
              "      <td>1.0</td>\n",
              "      <td>[0.0, 1.0, 0.0]</td>\n",
              "    </tr>\n",
              "    <tr>\n",
              "      <th>3</th>\n",
              "      <td>1.0</td>\n",
              "      <td>0.0</td>\n",
              "      <td>[0.9787234042553191, 0.02127659574468085, 0.0]</td>\n",
              "    </tr>\n",
              "    <tr>\n",
              "      <th>4</th>\n",
              "      <td>1.0</td>\n",
              "      <td>1.0</td>\n",
              "      <td>[0.0, 1.0, 0.0]</td>\n",
              "    </tr>\n",
              "  </tbody>\n",
              "</table>\n",
              "</div>"
            ],
            "text/plain": [
              "   indexedLabel  prediction                                     probability\n",
              "0           1.0         1.0                                 [0.0, 1.0, 0.0]\n",
              "1           1.0         1.0                                 [0.0, 1.0, 0.0]\n",
              "2           1.0         1.0                                 [0.0, 1.0, 0.0]\n",
              "3           1.0         0.0  [0.9787234042553191, 0.02127659574468085, 0.0]\n",
              "4           1.0         1.0                                 [0.0, 1.0, 0.0]"
            ]
          },
          "metadata": {
            "tags": []
          },
          "execution_count": 23
        }
      ]
    },
    {
      "cell_type": "code",
      "metadata": {
        "id": "hQ0ak4gfcoEf",
        "colab_type": "code",
        "colab": {}
      },
      "source": [
        ""
      ],
      "execution_count": 0,
      "outputs": []
    },
    {
      "cell_type": "code",
      "metadata": {
        "id": "Knb7ycW1coEh",
        "colab_type": "code",
        "colab": {}
      },
      "source": [
        ""
      ],
      "execution_count": 0,
      "outputs": []
    },
    {
      "cell_type": "code",
      "metadata": {
        "id": "re_3XVXucoEj",
        "colab_type": "code",
        "colab": {}
      },
      "source": [
        ""
      ],
      "execution_count": 0,
      "outputs": []
    },
    {
      "cell_type": "code",
      "metadata": {
        "id": "u6exXq-EcoEl",
        "colab_type": "code",
        "colab": {}
      },
      "source": [
        ""
      ],
      "execution_count": 0,
      "outputs": []
    },
    {
      "cell_type": "code",
      "metadata": {
        "id": "KRsoT3dfcoEo",
        "colab_type": "code",
        "colab": {}
      },
      "source": [
        ""
      ],
      "execution_count": 0,
      "outputs": []
    }
  ]
}