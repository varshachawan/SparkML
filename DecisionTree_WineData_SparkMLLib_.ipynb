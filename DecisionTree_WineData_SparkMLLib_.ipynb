{
  "nbformat": 4,
  "nbformat_minor": 0,
  "metadata": {
    "kernelspec": {
      "display_name": "Python 3",
      "language": "python",
      "name": "python3"
    },
    "language_info": {
      "codemirror_mode": {
        "name": "ipython",
        "version": 3
      },
      "file_extension": ".py",
      "mimetype": "text/x-python",
      "name": "python",
      "nbconvert_exporter": "python",
      "pygments_lexer": "ipython3",
      "version": "3.6.4"
    },
    "colab": {
      "name": "DecisionTree_WineData_SparkMLLib_.ipynb",
      "provenance": [],
      "toc_visible": true,
      "include_colab_link": true
    },
    "accelerator": "GPU"
  },
  "cells": [
    {
      "cell_type": "markdown",
      "metadata": {
        "id": "view-in-github",
        "colab_type": "text"
      },
      "source": [
        "<a href=\"https://colab.research.google.com/github/varshachawan/SparkMLlib/blob/master/DecisionTree_WineData_SparkMLLib_.ipynb\" target=\"_parent\"><img src=\"https://colab.research.google.com/assets/colab-badge.svg\" alt=\"Open In Colab\"/></a>"
      ]
    },
    {
      "cell_type": "markdown",
      "metadata": {
        "id": "rG7uoE_fOALW",
        "colab_type": "text"
      },
      "source": [
        "### Check the Spark Context\n",
        "Spark context sets up internal services and establishes a connection to a Spark execution environment"
      ]
    },
    {
      "cell_type": "code",
      "metadata": {
        "id": "WaZCQ1ITOEIF",
        "colab_type": "code",
        "colab": {}
      },
      "source": [
        "!apt-get install openjdk-8-jdk-headless -qq > /dev/null\n",
        "!wget -q https://mirror.olnevhost.net/pub/apache/spark/spark-2.4.5/spark-2.4.5-bin-hadoop2.7.tgz"
      ],
      "execution_count": 0,
      "outputs": []
    },
    {
      "cell_type": "code",
      "metadata": {
        "id": "5ZTbDti4OJBd",
        "colab_type": "code",
        "colab": {
          "base_uri": "https://localhost:8080/",
          "height": 35
        },
        "outputId": "004f0adf-dff6-4d3d-e85b-4b80b5331db0"
      },
      "source": [
        "!tar xf spark-2.4.5-bin-hadoop2.7.tgz\n",
        "!pip install -q findspark\n",
        "import os\n",
        "os.environ[\"JAVA_HOME\"]=\"/usr/lib/jvm/java-8-openjdk-amd64\"\n",
        "os.environ[\"SPARK_HOME\"]=\"/content/spark-2.4.5-bin-hadoop2.7\"\n",
        "!echo $JAVA_HOME\n",
        "import findspark\n",
        "findspark.init()"
      ],
      "execution_count": 2,
      "outputs": [
        {
          "output_type": "stream",
          "text": [
            "/usr/lib/jvm/java-8-openjdk-amd64\n"
          ],
          "name": "stdout"
        }
      ]
    },
    {
      "cell_type": "code",
      "metadata": {
        "id": "LOIoDi9gOALY",
        "colab_type": "code",
        "colab": {}
      },
      "source": [
        "from pyspark.sql import SparkSession\n"
      ],
      "execution_count": 0,
      "outputs": []
    },
    {
      "cell_type": "code",
      "metadata": {
        "id": "AiukoJvYUGp1",
        "colab_type": "code",
        "colab": {}
      },
      "source": [
        "\n",
        "spark = SparkSession.builder.appName(\"Tee Model\").getOrCreate()"
      ],
      "execution_count": 0,
      "outputs": []
    },
    {
      "cell_type": "code",
      "metadata": {
        "id": "RLPG5WNHUVSq",
        "colab_type": "code",
        "colab": {}
      },
      "source": [
        "sc = spark.sparkContext"
      ],
      "execution_count": 0,
      "outputs": []
    },
    {
      "cell_type": "markdown",
      "metadata": {
        "id": "5j05Ca-MOALc",
        "colab_type": "text"
      },
      "source": [
        "<b>Dataset location: </b>https://archive.ics.uci.edu/ml/machine-learning-databases/wine/wine.data"
      ]
    },
    {
      "cell_type": "code",
      "metadata": {
        "id": "K7JIdZg8OALd",
        "colab_type": "code",
        "colab": {}
      },
      "source": [
        "rawData = sc.textFile('./wine.data') "
      ],
      "execution_count": 0,
      "outputs": []
    },
    {
      "cell_type": "markdown",
      "metadata": {
        "id": "OqWy4aB_OALi",
        "colab_type": "text"
      },
      "source": [
        "#### The raw data is of type MapPartitionsRDD\n",
        "MapPartitionsRDD is the result of the following transformations:\n",
        "* map\n",
        "* flatMap\n",
        "* filter\n",
        "* glom\n",
        "\n",
        "MapPartitionsRDD is an RDD that applies the provided function f to every partition of the parent RDD"
      ]
    },
    {
      "cell_type": "code",
      "metadata": {
        "id": "aRZptyhROALj",
        "colab_type": "code",
        "colab": {
          "base_uri": "https://localhost:8080/",
          "height": 35
        },
        "outputId": "34916e1e-f785-48f8-c9cf-c294f80195da"
      },
      "source": [
        "rawData"
      ],
      "execution_count": 8,
      "outputs": [
        {
          "output_type": "execute_result",
          "data": {
            "text/plain": [
              "./wine.data MapPartitionsRDD[1] at textFile at NativeMethodAccessorImpl.java:0"
            ]
          },
          "metadata": {
            "tags": []
          },
          "execution_count": 8
        }
      ]
    },
    {
      "cell_type": "markdown",
      "metadata": {
        "id": "JFSfc6BmOALp",
        "colab_type": "text"
      },
      "source": [
        "#### View contents of the rawData RDD"
      ]
    },
    {
      "cell_type": "code",
      "metadata": {
        "id": "-ieKP3yjOALp",
        "colab_type": "code",
        "colab": {
          "base_uri": "https://localhost:8080/",
          "height": 199
        },
        "outputId": "b1514362-c504-42ed-d427-b952c38a673b"
      },
      "source": [
        "rawData.take(10)"
      ],
      "execution_count": 9,
      "outputs": [
        {
          "output_type": "execute_result",
          "data": {
            "text/plain": [
              "['1,14.23,1.71,2.43,15.6,127,2.8,3.06,.28,2.29,5.64,1.04,3.92,1065',\n",
              " '1,13.2,1.78,2.14,11.2,100,2.65,2.76,.26,1.28,4.38,1.05,3.4,1050',\n",
              " '1,13.16,2.36,2.67,18.6,101,2.8,3.24,.3,2.81,5.68,1.03,3.17,1185',\n",
              " '1,14.37,1.95,2.5,16.8,113,3.85,3.49,.24,2.18,7.8,.86,3.45,1480',\n",
              " '1,13.24,2.59,2.87,21,118,2.8,2.69,.39,1.82,4.32,1.04,2.93,735',\n",
              " '1,14.2,1.76,2.45,15.2,112,3.27,3.39,.34,1.97,6.75,1.05,2.85,1450',\n",
              " '1,14.39,1.87,2.45,14.6,96,2.5,2.52,.3,1.98,5.25,1.02,3.58,1290',\n",
              " '1,14.06,2.15,2.61,17.6,121,2.6,2.51,.31,1.25,5.05,1.06,3.58,1295',\n",
              " '1,14.83,1.64,2.17,14,97,2.8,2.98,.29,1.98,5.2,1.08,2.85,1045',\n",
              " '1,13.86,1.35,2.27,16,98,2.98,3.15,.22,1.85,7.22,1.01,3.55,1045']"
            ]
          },
          "metadata": {
            "tags": []
          },
          "execution_count": 9
        }
      ]
    },
    {
      "cell_type": "markdown",
      "metadata": {
        "id": "G6AH_ZsOOALz",
        "colab_type": "text"
      },
      "source": [
        "#### Function to transform each row in the RDD to a LabeledPoint\n",
        "* MLlib classifiers and regressors require data sets in a format of rows of type LabeledPoint\n",
        "* It's in the format (&lt;label&gt;, [&lt;array_of_features&gt;])"
      ]
    },
    {
      "cell_type": "code",
      "metadata": {
        "id": "A7aZ70MpOAL0",
        "colab_type": "code",
        "colab": {}
      },
      "source": [
        "from pyspark.mllib.regression import LabeledPoint\n",
        "\n",
        "def parsePoint(line):\n",
        "    values = [float(x) for x in line.split(',')]\n",
        "    return LabeledPoint(values[0], values[1:])"
      ],
      "execution_count": 0,
      "outputs": []
    },
    {
      "cell_type": "markdown",
      "metadata": {
        "id": "hDMKAszLOAL5",
        "colab_type": "text"
      },
      "source": [
        "#### Transform our raw data into an RDD of LabeledPoints"
      ]
    },
    {
      "cell_type": "code",
      "metadata": {
        "id": "XnGb_Y1gOAL6",
        "colab_type": "code",
        "colab": {
          "base_uri": "https://localhost:8080/",
          "height": 35
        },
        "outputId": "a3955f2e-a456-4a6a-a309-3213daaf64ab"
      },
      "source": [
        "parsedData = rawData.map(parsePoint)\n",
        "parsedData"
      ],
      "execution_count": 12,
      "outputs": [
        {
          "output_type": "execute_result",
          "data": {
            "text/plain": [
              "PythonRDD[3] at RDD at PythonRDD.scala:53"
            ]
          },
          "metadata": {
            "tags": []
          },
          "execution_count": 12
        }
      ]
    },
    {
      "cell_type": "code",
      "metadata": {
        "id": "VeGn69zROAL_",
        "colab_type": "code",
        "colab": {},
        "outputId": "a5377913-2e4d-4ba9-8c01-361328301465"
      },
      "source": [
        "parsedData.take(10)"
      ],
      "execution_count": 0,
      "outputs": [
        {
          "output_type": "execute_result",
          "data": {
            "text/plain": [
              "[LabeledPoint(1.0, [14.23,1.71,2.43,15.6,127.0,2.8,3.06,0.28,2.29,5.64,1.04,3.92,1065.0]),\n",
              " LabeledPoint(1.0, [13.2,1.78,2.14,11.2,100.0,2.65,2.76,0.26,1.28,4.38,1.05,3.4,1050.0]),\n",
              " LabeledPoint(1.0, [13.16,2.36,2.67,18.6,101.0,2.8,3.24,0.3,2.81,5.68,1.03,3.17,1185.0]),\n",
              " LabeledPoint(1.0, [14.37,1.95,2.5,16.8,113.0,3.85,3.49,0.24,2.18,7.8,0.86,3.45,1480.0]),\n",
              " LabeledPoint(1.0, [13.24,2.59,2.87,21.0,118.0,2.8,2.69,0.39,1.82,4.32,1.04,2.93,735.0]),\n",
              " LabeledPoint(1.0, [14.2,1.76,2.45,15.2,112.0,3.27,3.39,0.34,1.97,6.75,1.05,2.85,1450.0]),\n",
              " LabeledPoint(1.0, [14.39,1.87,2.45,14.6,96.0,2.5,2.52,0.3,1.98,5.25,1.02,3.58,1290.0]),\n",
              " LabeledPoint(1.0, [14.06,2.15,2.61,17.6,121.0,2.6,2.51,0.31,1.25,5.05,1.06,3.58,1295.0]),\n",
              " LabeledPoint(1.0, [14.83,1.64,2.17,14.0,97.0,2.8,2.98,0.29,1.98,5.2,1.08,2.85,1045.0]),\n",
              " LabeledPoint(1.0, [13.86,1.35,2.27,16.0,98.0,2.98,3.15,0.22,1.85,7.22,1.01,3.55,1045.0])]"
            ]
          },
          "metadata": {
            "tags": []
          },
          "execution_count": 9
        }
      ]
    },
    {
      "cell_type": "markdown",
      "metadata": {
        "id": "ysCaH7QUOAMD",
        "colab_type": "text"
      },
      "source": [
        "#### Split the RDD into training and test data sets"
      ]
    },
    {
      "cell_type": "code",
      "metadata": {
        "id": "V9x79IzSOAME",
        "colab_type": "code",
        "colab": {}
      },
      "source": [
        "(trainingData, testData) = parsedData.randomSplit([0.8, 0.2])"
      ],
      "execution_count": 0,
      "outputs": []
    },
    {
      "cell_type": "code",
      "metadata": {
        "id": "NO4zr4KHOAMJ",
        "colab_type": "code",
        "colab": {},
        "outputId": "1151a4d3-9df4-4a2e-bbcd-9a581d71a43f"
      },
      "source": [
        "trainingData"
      ],
      "execution_count": 0,
      "outputs": [
        {
          "output_type": "execute_result",
          "data": {
            "text/plain": [
              "PythonRDD[6] at RDD at PythonRDD.scala:48"
            ]
          },
          "metadata": {
            "tags": []
          },
          "execution_count": 11
        }
      ]
    },
    {
      "cell_type": "code",
      "metadata": {
        "id": "po5f7LkpOAMN",
        "colab_type": "code",
        "colab": {
          "base_uri": "https://localhost:8080/",
          "height": 35
        },
        "outputId": "c777bdb0-45e9-4934-e5d7-e690cd24cef7"
      },
      "source": [
        "trainingData.map(lambda x: x.label).distinct().collect()"
      ],
      "execution_count": 24,
      "outputs": [
        {
          "output_type": "execute_result",
          "data": {
            "text/plain": [
              "[2.0, 1.0, 3.0]"
            ]
          },
          "metadata": {
            "tags": []
          },
          "execution_count": 24
        }
      ]
    },
    {
      "cell_type": "markdown",
      "metadata": {
        "id": "oqOlKHWSOAMU",
        "colab_type": "text"
      },
      "source": [
        "### Create a Decision Tree model\n",
        "* <b>numClasses: </b>The number of labels. Since the labels in our dataset are 1,2 or 3 (rather than 0, 1, 2), we specify 4 rather than 3. Otherwise, it complains when it encounters a label of 3\n",
        "* <b>categoricalFeaturesInfo: </b>Specifies which features are categorical. None of the features in our dataset are\n",
        "* <b>impurity: </b>Can be <i>gini</i> or <i>entropy</i>\n",
        "* <b>maxDepth: </b>Maximum depth of the decision tree\n",
        "* <b>maxBins: </b>Number of bins used when discretizing continuous features. Increasing maxBins allows the algorithm to consider more split candidates and make fine-grained split decisions - at the cost of computation"
      ]
    },
    {
      "cell_type": "code",
      "metadata": {
        "id": "yOnDV0pCOAMV",
        "colab_type": "code",
        "colab": {}
      },
      "source": [
        "from pyspark.mllib.tree import DecisionTree, DecisionTreeModel\n",
        "\n",
        "model = DecisionTree.trainClassifier(trainingData, \n",
        "                                     numClasses=4, \n",
        "                                     categoricalFeaturesInfo={},\n",
        "                                     impurity='gini', \n",
        "                                     maxDepth=3, \n",
        "                                     maxBins=32)"
      ],
      "execution_count": 0,
      "outputs": []
    },
    {
      "cell_type": "markdown",
      "metadata": {
        "id": "C6QEO3Q4OAMb",
        "colab_type": "text"
      },
      "source": [
        "#### Use our model to make predictions with our test data"
      ]
    },
    {
      "cell_type": "code",
      "metadata": {
        "id": "LKm1JNTQOAMc",
        "colab_type": "code",
        "colab": {
          "base_uri": "https://localhost:8080/",
          "height": 35
        },
        "outputId": "1c70dd45-e727-4cca-aabd-9d063fb32df4"
      },
      "source": [
        "predictions = model.predict(testData.map(lambda x: x.features))\n",
        "predictions.take(5)"
      ],
      "execution_count": 43,
      "outputs": [
        {
          "output_type": "execute_result",
          "data": {
            "text/plain": [
              "[1.0, 1.0, 1.0, 1.0, 1.0]"
            ]
          },
          "metadata": {
            "tags": []
          },
          "execution_count": 43
        }
      ]
    },
    {
      "cell_type": "markdown",
      "metadata": {
        "id": "PtnR0zN9OAMg",
        "colab_type": "text"
      },
      "source": [
        "#### Pair up the actual and predicted values into a tuple"
      ]
    },
    {
      "cell_type": "code",
      "metadata": {
        "id": "zYPxOdGrOAMg",
        "colab_type": "code",
        "colab": {
          "base_uri": "https://localhost:8080/",
          "height": 35
        },
        "outputId": "c3573e4c-5c61-4e50-fd90-f15495c66cbd"
      },
      "source": [
        "labelsAndPredictions = testData.map(lambda lp: lp.label).zip(predictions)\n",
        "labelsAndPredictions.take(5)"
      ],
      "execution_count": 44,
      "outputs": [
        {
          "output_type": "execute_result",
          "data": {
            "text/plain": [
              "[(1.0, 1.0), (1.0, 1.0), (1.0, 1.0), (1.0, 1.0), (1.0, 1.0)]"
            ]
          },
          "metadata": {
            "tags": []
          },
          "execution_count": 44
        }
      ]
    },
    {
      "cell_type": "markdown",
      "metadata": {
        "id": "74Nfsyn1OAMk",
        "colab_type": "text"
      },
      "source": [
        "#### Compare the actual and predicted values to get the accuracy of our model"
      ]
    },
    {
      "cell_type": "code",
      "metadata": {
        "id": "X8feLvg1OAMl",
        "colab_type": "code",
        "colab": {
          "base_uri": "https://localhost:8080/",
          "height": 35
        },
        "outputId": "0b91e8a7-2e39-45fc-b117-29557254cad3"
      },
      "source": [
        "testAcc = labelsAndPredictions.filter(\n",
        "    lambda lp: lp[0] == lp[1]).count() / float(testData.count())\n",
        "print('Test Accuracy = ' + str(testAcc))"
      ],
      "execution_count": 45,
      "outputs": [
        {
          "output_type": "stream",
          "text": [
            "Test Accuracy = 0.9473684210526315\n"
          ],
          "name": "stdout"
        }
      ]
    },
    {
      "cell_type": "markdown",
      "metadata": {
        "id": "E7Utk8GlOAMr",
        "colab_type": "text"
      },
      "source": [
        "#### Use MulticlassMetrics instead for model evaluation\n",
        "* MulticlassMetrics takes rows of (prediction, label) tuples as input\n",
        "* The model can be evaluated on multiple measures such as fMeasure, precision, recall"
      ]
    },
    {
      "cell_type": "code",
      "metadata": {
        "id": "FdkMhynUOAMr",
        "colab_type": "code",
        "colab": {}
      },
      "source": [
        "from pyspark.mllib.evaluation import MulticlassMetrics\n",
        "\n",
        "metrics = MulticlassMetrics(labelsAndPredictions)"
      ],
      "execution_count": 0,
      "outputs": []
    },
    {
      "cell_type": "code",
      "metadata": {
        "id": "Dk0kzumTOAMv",
        "colab_type": "code",
        "colab": {
          "base_uri": "https://localhost:8080/",
          "height": 35
        },
        "outputId": "099177a8-2576-46d2-9140-208ce3957af0"
      },
      "source": [
        "metrics.accuracy"
      ],
      "execution_count": 47,
      "outputs": [
        {
          "output_type": "execute_result",
          "data": {
            "text/plain": [
              "0.9473684210526315"
            ]
          },
          "metadata": {
            "tags": []
          },
          "execution_count": 47
        }
      ]
    },
    {
      "cell_type": "code",
      "metadata": {
        "id": "wfto_NDXYNQS",
        "colab_type": "code",
        "colab": {
          "base_uri": "https://localhost:8080/",
          "height": 35
        },
        "outputId": "1f05cb1b-f9b5-4285-97b1-dd8d05ebed9e"
      },
      "source": [
        "metrics.recall()"
      ],
      "execution_count": 48,
      "outputs": [
        {
          "output_type": "execute_result",
          "data": {
            "text/plain": [
              "0.9473684210526315"
            ]
          },
          "metadata": {
            "tags": []
          },
          "execution_count": 48
        }
      ]
    },
    {
      "cell_type": "code",
      "metadata": {
        "id": "3jI78HumOAM6",
        "colab_type": "code",
        "colab": {
          "base_uri": "https://localhost:8080/",
          "height": 35
        },
        "outputId": "28211b59-95a9-4357-a0f9-768de7daaf65"
      },
      "source": [
        "metrics.fMeasure()"
      ],
      "execution_count": 49,
      "outputs": [
        {
          "output_type": "execute_result",
          "data": {
            "text/plain": [
              "0.9473684210526315"
            ]
          },
          "metadata": {
            "tags": []
          },
          "execution_count": 49
        }
      ]
    },
    {
      "cell_type": "markdown",
      "metadata": {
        "id": "2lW_-DC0OAM9",
        "colab_type": "text"
      },
      "source": [
        "#### Measure precision when making a specific prediction\n",
        "Check accuracy when the predicted value is 2.0"
      ]
    },
    {
      "cell_type": "code",
      "metadata": {
        "id": "IlGknKW9OAM9",
        "colab_type": "code",
        "colab": {
          "base_uri": "https://localhost:8080/",
          "height": 35
        },
        "outputId": "2d90e90c-4a2d-475c-fff6-89f11b84fc1b"
      },
      "source": [
        "metrics.precision(1.0)"
      ],
      "execution_count": 51,
      "outputs": [
        {
          "output_type": "execute_result",
          "data": {
            "text/plain": [
              "0.9285714285714286"
            ]
          },
          "metadata": {
            "tags": []
          },
          "execution_count": 51
        }
      ]
    },
    {
      "cell_type": "markdown",
      "metadata": {
        "id": "KFwLhediOANA",
        "colab_type": "text"
      },
      "source": [
        "#### Plot a confusion matrix\n",
        "* MulticlassMetrics also provides a confusion matrix"
      ]
    },
    {
      "cell_type": "code",
      "metadata": {
        "id": "KIwWIsyyOANA",
        "colab_type": "code",
        "colab": {
          "base_uri": "https://localhost:8080/",
          "height": 35
        },
        "outputId": "714a0521-aa74-41cc-f38d-6ff1e311cca7"
      },
      "source": [
        "metrics.confusionMatrix()"
      ],
      "execution_count": 52,
      "outputs": [
        {
          "output_type": "execute_result",
          "data": {
            "text/plain": [
              "DenseMatrix(3, 3, [13.0, 1.0, 0.0, 0.0, 13.0, 0.0, 0.0, 1.0, 10.0], 0)"
            ]
          },
          "metadata": {
            "tags": []
          },
          "execution_count": 52
        }
      ]
    },
    {
      "cell_type": "markdown",
      "metadata": {
        "id": "YD9bic9DOAND",
        "colab_type": "text"
      },
      "source": [
        "#### The confusion matrix is easier to read when converted to an array"
      ]
    },
    {
      "cell_type": "code",
      "metadata": {
        "id": "xqvbi25AOAND",
        "colab_type": "code",
        "colab": {},
        "outputId": "1d70409a-ff3a-4319-90e2-ec50f7b331c6"
      },
      "source": [
        "metrics.confusionMatrix().toArray()"
      ],
      "execution_count": 0,
      "outputs": [
        {
          "output_type": "execute_result",
          "data": {
            "text/plain": [
              "array([[15.,  0.,  0.],\n",
              "       [ 2., 18.,  0.],\n",
              "       [ 0.,  2., 12.]])"
            ]
          },
          "metadata": {
            "tags": []
          },
          "execution_count": 20
        }
      ]
    },
    {
      "cell_type": "markdown",
      "metadata": {
        "id": "1HvwX0u4OANG",
        "colab_type": "text"
      },
      "source": [
        "#### View the Decision Tree model\n",
        "It is merely a collection of if-else statements"
      ]
    },
    {
      "cell_type": "code",
      "metadata": {
        "id": "GztzyagSOANG",
        "colab_type": "code",
        "colab": {},
        "outputId": "0b599cf8-98e6-4cab-f7fc-05a6263638cd"
      },
      "source": [
        "print(model.toDebugString())"
      ],
      "execution_count": 0,
      "outputs": [
        {
          "output_type": "stream",
          "text": [
            "DecisionTreeModel classifier of depth 3 with 15 nodes\n",
            "  If (feature 12 <= 765.0)\n",
            "   If (feature 9 <= 4.85)\n",
            "    If (feature 6 <= 0.835)\n",
            "     Predict: 3.0\n",
            "    Else (feature 6 > 0.835)\n",
            "     Predict: 2.0\n",
            "   Else (feature 9 > 4.85)\n",
            "    If (feature 5 <= 2.815)\n",
            "     Predict: 3.0\n",
            "    Else (feature 5 > 2.815)\n",
            "     Predict: 2.0\n",
            "  Else (feature 12 > 765.0)\n",
            "   If (feature 6 <= 2.1550000000000002)\n",
            "    If (feature 1 <= 1.62)\n",
            "     Predict: 2.0\n",
            "    Else (feature 1 > 1.62)\n",
            "     Predict: 3.0\n",
            "   Else (feature 6 > 2.1550000000000002)\n",
            "    If (feature 4 <= 133.0)\n",
            "     Predict: 1.0\n",
            "    Else (feature 4 > 133.0)\n",
            "     Predict: 2.0\n",
            "\n"
          ],
          "name": "stdout"
        }
      ]
    },
    {
      "cell_type": "markdown",
      "metadata": {
        "id": "eqidleUKOANL",
        "colab_type": "text"
      },
      "source": [
        "### Spark can also handle data sets in LIBSVM format\n",
        "The data is in this format: <br />\n",
        "&lt;label&gt; &lt;index1&gt;:&lt;value1&gt; &lt;index2&gt;:&lt;value2&gt; ... <br /><br />\n",
        "\n",
        "The MLUtils class is required to load SVM data"
      ]
    },
    {
      "cell_type": "code",
      "metadata": {
        "id": "KK4gE7B9OANM",
        "colab_type": "code",
        "colab": {}
      },
      "source": [
        "from pyspark.mllib.util import MLUtils"
      ],
      "execution_count": 0,
      "outputs": []
    },
    {
      "cell_type": "markdown",
      "metadata": {
        "id": "GY7CajEDOANP",
        "colab_type": "text"
      },
      "source": [
        "<b>LibSVM dataset location: </b>https://www.csie.ntu.edu.tw/~cjlin/libsvmtools/datasets/multiclass/wine.scale"
      ]
    },
    {
      "cell_type": "code",
      "metadata": {
        "id": "KicU26k_OANP",
        "colab_type": "code",
        "colab": {}
      },
      "source": [
        "libsvmData = MLUtils.loadLibSVMFile(sc, './wine.scale')"
      ],
      "execution_count": 0,
      "outputs": []
    },
    {
      "cell_type": "code",
      "metadata": {
        "id": "6DEn6kMEOANS",
        "colab_type": "code",
        "colab": {},
        "outputId": "86c413ea-85c5-4f68-c830-169c640525f5"
      },
      "source": [
        "libsvmData"
      ],
      "execution_count": 0,
      "outputs": [
        {
          "output_type": "execute_result",
          "data": {
            "text/plain": [
              "PythonRDD[73] at RDD at PythonRDD.scala:48"
            ]
          },
          "metadata": {
            "tags": []
          },
          "execution_count": 27
        }
      ]
    },
    {
      "cell_type": "code",
      "metadata": {
        "id": "VkLGwHJIOANW",
        "colab_type": "code",
        "colab": {
          "base_uri": "https://localhost:8080/",
          "height": 128
        },
        "outputId": "ce7d56a7-25a3-46a1-dc77-9c590b2e2747"
      },
      "source": [
        "libsvmData.take(5)"
      ],
      "execution_count": 58,
      "outputs": [
        {
          "output_type": "execute_result",
          "data": {
            "text/plain": [
              "[LabeledPoint(1.0, (13,[0,1,2,3,4,5,6,7,8,9,10,11,12],[0.68421,-0.616601,0.144385,-0.484536,0.23913,0.255172,0.147679,-0.433962,0.18612,-0.255973,-0.089431,0.941392,0.122682])),\n",
              " LabeledPoint(1.0, (13,[0,1,2,3,4,5,6,7,8,9,10,11,12],[0.142105,-0.588933,-0.165775,-0.938144,-0.347826,0.151724,0.0210971,-0.509434,-0.451104,-0.47099,-0.0731708,0.56044,0.101284])),\n",
              " LabeledPoint(1.0, (13,[0,1,2,3,4,5,6,7,8,9,10,11,12],[0.121053,-0.359684,0.40107,-0.175258,-0.326087,0.255172,0.223629,-0.358491,0.514196,-0.249147,-0.105691,0.391941,0.293866])),\n",
              " LabeledPoint(1.0, (13,[0,1,2,3,4,5,6,7,8,9,10,11,12],[0.757895,-0.521739,0.219251,-0.360825,-0.0652174,0.97931,0.329114,-0.584906,0.116719,0.112628,-0.382114,0.59707,0.714693])),\n",
              " LabeledPoint(1.0, (13,[0,1,2,3,4,5,6,7,8,9,10,11,12],[0.163158,-0.268775,0.614973,0.0721649,0.0434783,0.255172,-0.00843878,-0.018868,-0.11041,-0.481229,-0.089431,0.216117,-0.348074]))]"
            ]
          },
          "metadata": {
            "tags": []
          },
          "execution_count": 58
        }
      ]
    },
    {
      "cell_type": "code",
      "metadata": {
        "id": "C9bN-sNcOANZ",
        "colab_type": "code",
        "colab": {}
      },
      "source": [
        "(trainingData, testData) = libsvmData.randomSplit([0.8, 0.2])"
      ],
      "execution_count": 0,
      "outputs": []
    },
    {
      "cell_type": "markdown",
      "metadata": {
        "id": "s8n6oY_DOANe",
        "colab_type": "text"
      },
      "source": [
        "#### The model has the same parameters as the one created previously"
      ]
    },
    {
      "cell_type": "code",
      "metadata": {
        "id": "jEV0LJ6POANe",
        "colab_type": "code",
        "colab": {}
      },
      "source": [
        "libsvmModel = DecisionTree.trainClassifier(trainingData, \n",
        "                                           numClasses=4, \n",
        "                                           categoricalFeaturesInfo={},\n",
        "                                           impurity='gini', \n",
        "                                           maxDepth=6, \n",
        "                                           maxBins=32)"
      ],
      "execution_count": 0,
      "outputs": []
    },
    {
      "cell_type": "code",
      "metadata": {
        "id": "CQ0wbnPMOANh",
        "colab_type": "code",
        "colab": {}
      },
      "source": [
        "predictions = libsvmModel.predict(testData.map(lambda x: x.features))"
      ],
      "execution_count": 0,
      "outputs": []
    },
    {
      "cell_type": "code",
      "metadata": {
        "id": "Q7rm2sqWOANl",
        "colab_type": "code",
        "colab": {}
      },
      "source": [
        "metrics = MulticlassMetrics(labelsAndPredictions)"
      ],
      "execution_count": 0,
      "outputs": []
    },
    {
      "cell_type": "code",
      "metadata": {
        "id": "DXXWOH4KOANn",
        "colab_type": "code",
        "colab": {
          "base_uri": "https://localhost:8080/",
          "height": 35
        },
        "outputId": "de7846cc-843a-4924-9b26-d683c2491fdd"
      },
      "source": [
        "metrics.accuracy"
      ],
      "execution_count": 63,
      "outputs": [
        {
          "output_type": "execute_result",
          "data": {
            "text/plain": [
              "0.9473684210526315"
            ]
          },
          "metadata": {
            "tags": []
          },
          "execution_count": 63
        }
      ]
    },
    {
      "cell_type": "code",
      "metadata": {
        "id": "tzzDt_lYOANq",
        "colab_type": "code",
        "colab": {},
        "outputId": "cbea7bd4-e8dc-444f-b209-a44c01f95141"
      },
      "source": [
        "metrics.confusionMatrix().toArray()"
      ],
      "execution_count": 0,
      "outputs": [
        {
          "output_type": "execute_result",
          "data": {
            "text/plain": [
              "array([[19.,  0.,  0.],\n",
              "       [ 2., 29.,  0.],\n",
              "       [ 0.,  3., 15.]])"
            ]
          },
          "metadata": {
            "tags": []
          },
          "execution_count": 36
        }
      ]
    },
    {
      "cell_type": "code",
      "metadata": {
        "id": "SvVdZVXMOAN0",
        "colab_type": "code",
        "colab": {},
        "outputId": "f5f07780-5fa8-4755-9a94-2d29d0195b4b"
      },
      "source": [
        "print(model.toDebugString())"
      ],
      "execution_count": 0,
      "outputs": [
        {
          "output_type": "stream",
          "text": [
            "DecisionTreeModel classifier of depth 3 with 11 nodes\n",
            "  If (feature 6 <= 1.29)\n",
            "   If (feature 9 <= 3.125)\n",
            "    Predict: 2.0\n",
            "   Else (feature 9 > 3.125)\n",
            "    Predict: 3.0\n",
            "  Else (feature 6 > 1.29)\n",
            "   If (feature 12 <= 765.0)\n",
            "    If (feature 9 <= 6.165)\n",
            "     Predict: 2.0\n",
            "    Else (feature 9 > 6.165)\n",
            "     Predict: 3.0\n",
            "   Else (feature 12 > 765.0)\n",
            "    If (feature 9 <= 3.46)\n",
            "     Predict: 2.0\n",
            "    Else (feature 9 > 3.46)\n",
            "     Predict: 1.0\n",
            "\n"
          ],
          "name": "stdout"
        }
      ]
    },
    {
      "cell_type": "code",
      "metadata": {
        "id": "n3SS8tnEOAN4",
        "colab_type": "code",
        "colab": {}
      },
      "source": [
        ""
      ],
      "execution_count": 0,
      "outputs": []
    },
    {
      "cell_type": "code",
      "metadata": {
        "id": "VROABbCXOAN7",
        "colab_type": "code",
        "colab": {}
      },
      "source": [
        ""
      ],
      "execution_count": 0,
      "outputs": []
    }
  ]
}